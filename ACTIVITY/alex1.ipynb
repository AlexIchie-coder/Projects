{
 "cells": [
  {
   "cell_type": "code",
   "execution_count": 14,
   "metadata": {},
   "outputs": [
    {
     "name": "stdout",
     "output_type": "stream",
     "text": [
      "test\n"
     ]
    }
   ],
   "source": [
    "print(\"test\")\n"
   ]
  },
  {
   "cell_type": "markdown",
   "metadata": {},
   "source": [
    "In your file create a variable called my_name with your name as the value. Put your name inside string quotes, e.g., \"my name\". Then add a line of code to print the variable name.\n",
    "\n"
   ]
  },
  {
   "cell_type": "code",
   "execution_count": 32,
   "metadata": {},
   "outputs": [
    {
     "name": "stdout",
     "output_type": "stream",
     "text": [
      "Hello World!\n",
      "\n",
      "Alex Ebuka Nnadi\n"
     ]
    }
   ],
   "source": [
    "print(\"Hello World!\")\n",
    "\n",
    "''\n",
    "print('')\n",
    "\n",
    "name = 'Alex Ebuka '\n",
    "\n",
    "last_name = 'Nnadi' \n",
    "\n",
    "full_name = name + \"\" +last_name\n",
    "print(full_name)"
   ]
  },
  {
   "cell_type": "markdown",
   "metadata": {},
   "source": [
    "Create a variable called age with a number that is your age. Do not use string quotes for numbers.\n"
   ]
  },
  {
   "cell_type": "code",
   "execution_count": 34,
   "metadata": {},
   "outputs": [
    {
     "name": "stdout",
     "output_type": "stream",
     "text": [
      "26\n"
     ]
    }
   ],
   "source": [
    "my_age = 26\n",
    "print(26)"
   ]
  },
  {
   "cell_type": "markdown",
   "metadata": {},
   "source": [
    "Create a variable called julia_age with the value 32. Create another variable called age_diff and set it to an expression that calculates your age minus Julias's age. Print your age and the value of age_diff. If you are younger than Julia, age_diff should be a negative number.\n",
    "\n"
   ]
  },
  {
   "cell_type": "code",
   "execution_count": 44,
   "metadata": {},
   "outputs": [
    {
     "name": "stdout",
     "output_type": "stream",
     "text": [
      "-3\n"
     ]
    }
   ],
   "source": [
    "my_age = 29\n",
    "julia_age = 32 \n",
    "age_diff = my_age - julia_age\n",
    "print(age_diff)"
   ]
  },
  {
   "cell_type": "markdown",
   "metadata": {},
   "source": [
    "Write a conditional that compares the variable holding your age with the number 21. It should print either \"You are older than 21\" or \"You are not older than 21\", appropriately, depending on your age. Save your file and run the cell. Make sure you see the correct message. Try changing your age in the file to make sure the other message prints when it should.\n",
    "\n"
   ]
  },
  {
   "cell_type": "code",
   "execution_count": 51,
   "metadata": {},
   "outputs": [
    {
     "name": "stdout",
     "output_type": "stream",
     "text": [
      "my_age is older than list_number \n"
     ]
    }
   ],
   "source": [
    "my_age = 29\n",
    "list_number = 21\n",
    "if my_age < list_number:\n",
    "    print('my_age is not older than list_number')\n",
    "elif my_age > list_number:\n",
    "    print('my_age is older than list_number ')"
   ]
  },
  {
   "cell_type": "markdown",
   "metadata": {},
   "source": [
    "Write a conditional that compares your age with Julia's age. This conditional will need to test if you are older, younger, or the same age, and print, appropriately, either \"Julia is older than you\", \"Julia is younger than you\", or \"You are the same age as Julia\".\n",
    "\n"
   ]
  },
  {
   "cell_type": "code",
   "execution_count": 52,
   "metadata": {},
   "outputs": [
    {
     "name": "stdout",
     "output_type": "stream",
     "text": [
      "my_age is not older than list_number\n"
     ]
    }
   ],
   "source": [
    "my_age = 29\n",
    "julia_age = 32 \n",
    "if my_age < julia_age:\n",
    "    print('my_age is not older than list_number')\n",
    "elif my_age > julia_age: \n",
    "    print('my_age is older than julia_age')\n",
    "else: \n",
    "    print('my_age is the same with julia_age')"
   ]
  },
  {
   "cell_type": "markdown",
   "metadata": {},
   "source": [
    "Create a list with all the names of your class (including mentors). Sort the list alphabetically, then print the first element of the list.\n"
   ]
  },
  {
   "cell_type": "code",
   "execution_count": 61,
   "metadata": {},
   "outputs": [
    {
     "name": "stdout",
     "output_type": "stream",
     "text": [
      "['ALex', 'Emily', 'Pablo', 'Rakesh', 'Sudha', 'Tim']\n",
      "ALex\n",
      "ALex\n",
      "Emily\n",
      "Pablo\n",
      "Rakesh\n",
      "Sudha\n",
      "Tim\n"
     ]
    }
   ],
   "source": [
    "llamas_list = ['ALex','Pablo','Tim','Emily','Sudha','Rakesh']\n",
    "\n",
    "llamas_list.sort()\n",
    "print(llamas_list)\n",
    "\n",
    "print(llamas_list[0])\n",
    "for names in llamas_list:\n",
    "    print(names)"
   ]
  },
  {
   "cell_type": "markdown",
   "metadata": {},
   "source": [
    "Create a list with all the ages of the students in your class. Iterate through the list using a for loop, and then print every age. Add a conditional inside the loop to only print even numbers.\n"
   ]
  },
  {
   "cell_type": "code",
   "execution_count": 76,
   "metadata": {},
   "outputs": [
    {
     "name": "stdout",
     "output_type": "stream",
     "text": [
      "32\n",
      "80\n",
      "40\n"
     ]
    }
   ],
   "source": [
    "llamas_age = [32,77,80,29,40,]\n",
    "#for numbers in llamas_age:\n",
    "   # print(numbers)\n",
    "for numbers in llamas_age:\n",
    "    if numbers % 2 == 0:\n",
    "        print(numbers)"
   ]
  },
  {
   "cell_type": "markdown",
   "metadata": {},
   "source": [
    "Write a list containing numbers and print the lowest number.\n",
    "\n"
   ]
  },
  {
   "cell_type": "code",
   "execution_count": 1,
   "metadata": {},
   "outputs": [
    {
     "name": "stdout",
     "output_type": "stream",
     "text": [
      "2\n"
     ]
    }
   ],
   "source": [
    "number_list = [80, 100, 7, 90, 2, 54]\n",
    "print(min(number_list))\n"
   ]
  },
  {
   "cell_type": "markdown",
   "metadata": {},
   "source": [
    "Write a list containing numbers and print the highest number.\n"
   ]
  },
  {
   "cell_type": "code",
   "execution_count": 2,
   "metadata": {},
   "outputs": [
    {
     "name": "stdout",
     "output_type": "stream",
     "text": [
      "1001\n"
     ]
    }
   ],
   "source": [
    "numbers_list = [1000, 877, 500, 1, 1001,]\n",
    "print(max(numbers_list))"
   ]
  },
  {
   "cell_type": "markdown",
   "metadata": {},
   "source": [
    "Given below is a list of 10 customers with year of birth, however, the list can be as large as several thousands of customers. Use a loop to iterate over the list and print the age of each customer.\n",
    "\n"
   ]
  },
  {
   "cell_type": "code",
   "execution_count": 3,
   "metadata": {},
   "outputs": [
    {
     "name": "stdout",
     "output_type": "stream",
     "text": [
      "25\n",
      "29\n",
      "19\n",
      "14\n",
      "17\n",
      "18\n",
      "30\n",
      "28\n",
      "45\n",
      "16\n"
     ]
    }
   ],
   "source": [
    "from datetime import datetime\n",
    "year_of_birth= [1999, 1995, 2005, 2010, 2007, 2006, 1994, 1996, 1979, 2008]\n",
    "current_year = datetime.now().year\n",
    "for year in year_of_birth:\n",
    "    print ((current_year - year))\n"
   ]
  },
  {
   "cell_type": "markdown",
   "metadata": {},
   "source": [
    "Given below is a list of 10 customers with name and year of birth, however, the list can be as large as several thousands of customers.\n",
    "\n",
    "Use a loop to iterate over the list and print the name and age of each customer. Afterwards, for each customer try to print the sentence \"customer_name is customer_age years old\". customer_name and customer_age should correspond to each customer's name and age.\n",
    "\n"
   ]
  },
  {
   "cell_type": "code",
   "execution_count": 4,
   "metadata": {},
   "outputs": [
    {
     "name": "stdout",
     "output_type": "stream",
     "text": [
      "Bob  is  25 years old\n",
      "Jack  is  29 years old\n",
      "Lisa  is  19 years old\n",
      "Maria  is  14 years old\n",
      "Ben  is  17 years old\n",
      "Emma  is  18 years old\n",
      "Oscar  is  30 years old\n",
      "Amy  is  28 years old\n",
      "Paul  is  45 years old\n",
      "Etta  is  16 years old\n"
     ]
    }
   ],
   "source": [
    "customer_list = [\n",
    "                    {\"name\": \"Bob\", \"age\": 1999},\n",
    "                    {\"name\": \"Jack\", \"age\": 1995},\n",
    "                    {\"name\": \"Lisa\", \"age\": 2005},\n",
    "                    {\"name\": \"Maria\", \"age\": 2010},\n",
    "                    {\"name\": \"Ben\", \"age\": 2007},\n",
    "                    {\"name\": \"Emma\", \"age\": 2006},\n",
    "                    {\"name\": \"Oscar\", \"age\": 1994},\n",
    "                    {\"name\": \"Amy\", \"age\": 1996},\n",
    "                    {\"name\": \"Paul\", \"age\": 1979},\n",
    "                    {\"name\": \"Etta\", \"age\": 2008}\n",
    "                ]\n",
    "for a in customer_list:\n",
    "    print(a['name'],\" is \",2024-a['age'],\"years old\")\n"
   ]
  },
  {
   "cell_type": "markdown",
   "metadata": {},
   "source": [
    "Exercise 12 Given a list of ages, remove the youngest and the oldest person. ages = [20, 24, 14, 9, 12, 13, 25, 23, 40, 11] For this exercise try not to use the max() and min() methods.\n"
   ]
  },
  {
   "cell_type": "code",
   "execution_count": 5,
   "metadata": {},
   "outputs": [
    {
     "name": "stdout",
     "output_type": "stream",
     "text": [
      "[11, 12, 13, 14, 20, 23, 24, 25]\n"
     ]
    }
   ],
   "source": [
    "ages = [20, 24, 14, 9, 12, 13, 25, 23, 40, 11]\n",
    "ages.sort()\n",
    "ages.pop(0)\n",
    "ages.pop(-1)\n",
    "print(ages)\n"
   ]
  },
  {
   "cell_type": "markdown",
   "metadata": {},
   "source": [
    "You have two lists with ages of customers from different cities. The task is to create a new list with the common ages.\n"
   ]
  },
  {
   "cell_type": "code",
   "execution_count": 13,
   "metadata": {},
   "outputs": [
    {
     "name": "stdout",
     "output_type": "stream",
     "text": [
      "[10, 13, 15, 16, 18, 19]\n"
     ]
    }
   ],
   "source": [
    "berlin = [15, 13, 16, 18, 19, 10, 12 ]\n",
    "munich = [7, 13, 15, 20, 19, 18, 10, 16]\n",
    "\n",
    "berlin_munich = list(set(berlin).intersection(munich))\n",
    "print(berlin_munich)\n"
   ]
  },
  {
   "cell_type": "markdown",
   "metadata": {},
   "source": [
    "You have a list with ages.\n",
    "\n",
    "[15, 13, 16, 18, 19, 15, 10] Remove the duplicates.\n",
    "\n"
   ]
  },
  {
   "cell_type": "code",
   "execution_count": 7,
   "metadata": {},
   "outputs": [
    {
     "name": "stdout",
     "output_type": "stream",
     "text": [
      "[11, 12, 13, 14, 20, 23, 24, 25]\n"
     ]
    }
   ],
   "source": [
    "age = [15, 13, 16, 18, 19, 15, 10]\n",
    "ages = list(dict.fromkeys(ages))\n",
    "print(ages)\n"
   ]
  },
  {
   "cell_type": "markdown",
   "metadata": {},
   "source": [
    "Write a function that works like below: Function name: welcome welcome('Evelyn') would print- 'Welcome Evelyn, have a nice day!' welcome('Jost'), would print - 'Welcome Jost, have a nice day!'\n"
   ]
  },
  {
   "cell_type": "code",
   "execution_count": 8,
   "metadata": {},
   "outputs": [
    {
     "name": "stdout",
     "output_type": "stream",
     "text": [
      "Welcome jost\n",
      "Welcome jost have a nice day!\n"
     ]
    }
   ],
   "source": [
    "def welcome(name):\n",
    "    print(\"Welcome\",  name)\n",
    "    print(\"Welcome\",  name , \"have a nice day!\")\n",
    "\n",
    "welcome(\"jost\")\n"
   ]
  },
  {
   "cell_type": "markdown",
   "metadata": {},
   "source": [
    "Write a function that takes a string as input and calculates the length.\n",
    "\n",
    "Function name: get_length\n",
    "\n",
    "get_length('Hello') would print / return 5.\n",
    "\n",
    "get_length('Hi') would print / return 2.\n",
    "\n"
   ]
  },
  {
   "cell_type": "code",
   "execution_count": 9,
   "metadata": {},
   "outputs": [
    {
     "name": "stdout",
     "output_type": "stream",
     "text": [
      "5\n"
     ]
    }
   ],
   "source": [
    "def get_length(name):\n",
    "    print(len(name))\n",
    "get_length(\"julia\")\n"
   ]
  },
  {
   "cell_type": "markdown",
   "metadata": {},
   "source": [
    "Write a function which checks whether a number is even.\n",
    "\n",
    "Hint: Think about the modulus operator\n",
    "\n",
    "Function name: check_even\n",
    "\n",
    "check_even(6) would print / return 'Yes'\n",
    "\n",
    "check_even(5) would print / return 'No'\n",
    "\n"
   ]
  },
  {
   "cell_type": "code",
   "execution_count": 10,
   "metadata": {},
   "outputs": [
    {
     "name": "stdout",
     "output_type": "stream",
     "text": [
      "no\n"
     ]
    }
   ],
   "source": [
    "def check_even(number):\n",
    "    if number%2 == 0:\n",
    "        return \"yes\"\n",
    "    else:\n",
    "        return \"no\"\n",
    "\n",
    "print(check_even(7))\n"
   ]
  },
  {
   "cell_type": "markdown",
   "metadata": {},
   "source": [
    "Rewrite exercises 11, 12, 13, and 14 in a function.\n"
   ]
  },
  {
   "cell_type": "code",
   "execution_count": 11,
   "metadata": {},
   "outputs": [
    {
     "name": "stdout",
     "output_type": "stream",
     "text": [
      "list[slice(None, None, -1)]\n"
     ]
    }
   ],
   "source": [
    "def number(list):\n",
    "    print(list[::-1])\n",
    "list_ex = [11,12,13,14]\n",
    "\n",
    "number(list)\n"
   ]
  },
  {
   "cell_type": "markdown",
   "metadata": {},
   "source": [
    "Write a function that takes a list of integers and also a single integer as inputs. It should return true or false if the single integer value is present or not in the list.\n",
    "\n"
   ]
  },
  {
   "cell_type": "code",
   "execution_count": 12,
   "metadata": {},
   "outputs": [
    {
     "name": "stdout",
     "output_type": "stream",
     "text": [
      "True\n",
      "True\n",
      "False\n",
      "True\n"
     ]
    }
   ],
   "source": [
    "integer_list = [5,20,14,51,82,90]\n",
    "def my_func (x,y):\n",
    "    if y in x:\n",
    "        print (True)\n",
    "    else:\n",
    "        print(False)\n",
    "\n",
    "my_func (integer_list, 82)\n",
    "\n",
    "my_func (integer_list, 20)\n",
    "\n",
    "my_func (integer_list, 1)\n",
    "\n",
    "my_func (integer_list, 90)\n"
   ]
  }
 ],
 "metadata": {
  "kernelspec": {
   "display_name": "Experience",
   "language": "python",
   "name": "python3"
  },
  "language_info": {
   "codemirror_mode": {
    "name": "ipython",
    "version": 3
   },
   "file_extension": ".py",
   "mimetype": "text/x-python",
   "name": "python",
   "nbconvert_exporter": "python",
   "pygments_lexer": "ipython3",
   "version": "3.12.2"
  }
 },
 "nbformat": 4,
 "nbformat_minor": 2
}
