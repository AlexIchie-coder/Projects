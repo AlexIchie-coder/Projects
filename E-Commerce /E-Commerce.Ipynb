{
 "cells": [
  {
   "cell_type": "code",
   "execution_count": 2,
   "metadata": {},
   "outputs": [],
   "source": [
    "\n",
    "import pandas as pd\n",
    "import numpy  as np\n",
    "import matplotlib.pyplot as plt\n",
    "import seaborn as sns\n",
    "import sqlite3 as sql"
   ]
  },
  {
   "cell_type": "code",
   "execution_count": 9,
   "metadata": {},
   "outputs": [],
   "source": [
    "# Try different encodings\n",
    "try:\n",
    "    e_com = pd.read_csv('Sample-Superstore.csv', encoding='utf-8')\n",
    "except UnicodeDecodeError:\n",
    "    # Try alternative encodings\n",
    "    e_com = pd.read_csv('Sample-Superstore.csv', encoding='latin-1')\n"
   ]
  },
  {
   "cell_type": "code",
   "execution_count": 12,
   "metadata": {},
   "outputs": [],
   "source": [
    "E_Commerce = e_com"
   ]
  },
  {
   "cell_type": "code",
   "execution_count": 13,
   "metadata": {},
   "outputs": [
    {
     "data": {
      "text/plain": [
       "(9994, 21)"
      ]
     },
     "execution_count": 13,
     "metadata": {},
     "output_type": "execute_result"
    }
   ],
   "source": [
    "E_Commerce.shape"
   ]
  },
  {
   "cell_type": "code",
   "execution_count": 82,
   "metadata": {},
   "outputs": [
    {
     "data": {
      "text/plain": [
       "Index(['Row ID', 'Order ID', 'Order Date', 'Ship Date', 'Ship Mode',\n",
       "       'Customer ID', 'Customer Name', 'Segment', 'Country', 'City', 'State',\n",
       "       'Postal Code', 'Region', 'Product ID', 'Category', 'Sub-Category',\n",
       "       'Product Name', 'Sales', 'Quantity', 'Discount', 'Profit', 'Order Year',\n",
       "       'Order Month', 'Order Month No', 'Ship Year', 'Ship Month',\n",
       "       'Ship Month No', 'Order Season', 'Ship Season', 'Total Revenue',\n",
       "       'Status'],\n",
       "      dtype='object')"
      ]
     },
     "execution_count": 82,
     "metadata": {},
     "output_type": "execute_result"
    }
   ],
   "source": [
    "E_Commerce.columns"
   ]
  },
  {
   "cell_type": "code",
   "execution_count": 81,
   "metadata": {},
   "outputs": [
    {
     "data": {
      "text/plain": [
       "0         Second Class\n",
       "1         Second Class\n",
       "2         Second Class\n",
       "3       Standard Class\n",
       "4       Standard Class\n",
       "             ...      \n",
       "9989      Second Class\n",
       "9990    Standard Class\n",
       "9991    Standard Class\n",
       "9992    Standard Class\n",
       "9993      Second Class\n",
       "Name: Ship Mode, Length: 9994, dtype: object"
      ]
     },
     "execution_count": 81,
     "metadata": {},
     "output_type": "execute_result"
    }
   ],
   "source": [
    "E_Commerce['Ship Mode']"
   ]
  },
  {
   "cell_type": "code",
   "execution_count": 78,
   "metadata": {},
   "outputs": [
    {
     "data": {
      "text/plain": [
       "0     Profit\n",
       "1     Profit\n",
       "2     Profit\n",
       "3       Loss\n",
       "4     Profit\n",
       "5     Profit\n",
       "6     Profit\n",
       "7     Profit\n",
       "8     Profit\n",
       "9     Profit\n",
       "10    Profit\n",
       "11    Profit\n",
       "12    Profit\n",
       "13    Profit\n",
       "14      Loss\n",
       "15      Loss\n",
       "16    Profit\n",
       "17    Profit\n",
       "18    Profit\n",
       "19    Profit\n",
       "20    Profit\n",
       "21    Profit\n",
       "22    Profit\n",
       "23      Loss\n",
       "24    Profit\n",
       "25    Profit\n",
       "26    Profit\n",
       "27      Loss\n",
       "28      Loss\n",
       "29    Profit\n",
       "30    Profit\n",
       "31    Profit\n",
       "32      Loss\n",
       "33    Profit\n",
       "34    Profit\n",
       "35    Profit\n",
       "36      Loss\n",
       "37    Profit\n",
       "38      Loss\n",
       "39      Loss\n",
       "40    Profit\n",
       "41    Profit\n",
       "42    Profit\n",
       "43    Profit\n",
       "44    Profit\n",
       "45    Profit\n",
       "46    Profit\n",
       "47    Profit\n",
       "48    Profit\n",
       "49    Profit\n",
       "Name: Status, dtype: object"
      ]
     },
     "execution_count": 78,
     "metadata": {},
     "output_type": "execute_result"
    }
   ],
   "source": [
    "#E_Commerce \n",
    "# Get unique values from a column\n",
    "E_Commerce['Status'].head(50)"
   ]
  },
  {
   "cell_type": "code",
   "execution_count": 17,
   "metadata": {},
   "outputs": [],
   "source": [
    "#find missing null values\n",
    "E_Commerce.isnull().sum()\n",
    "\n",
    "#drop missing values\n",
    "E_Commerce = E_Commerce.dropna()"
   ]
  },
  {
   "cell_type": "code",
   "execution_count": 51,
   "metadata": {},
   "outputs": [],
   "source": [
    "# Convert started_at and ended_at to datetime for memory efficiency\n",
    "E_Commerce['Order Date'] = pd.to_datetime(E_Commerce['Order Date'])\n",
    "E_Commerce['Ship Date'] = pd.to_datetime(E_Commerce['Ship Date'])"
   ]
  },
  {
   "cell_type": "markdown",
   "metadata": {},
   "source": [
    "# FUTURE ENGINEERING "
   ]
  },
  {
   "cell_type": "markdown",
   "metadata": {},
   "source": [
    "## ADDING NEW COLUMNS "
   ]
  },
  {
   "cell_type": "code",
   "execution_count": 54,
   "metadata": {},
   "outputs": [],
   "source": [
    "# Extracting year, month From order date \n",
    "E_Commerce['Order Year'] = E_Commerce['Order Date'].dt.year\n",
    "E_Commerce['Order Month'] = E_Commerce['Order Date'].dt.month_name()\n",
    "E_Commerce['Order Month No'] = E_Commerce['Order Date'].dt.month\n",
    "\n",
    "\n",
    "# Extracting year, month From  ship date\n",
    "E_Commerce['Ship Year'] = E_Commerce['Ship Date'].dt.year\n",
    "E_Commerce['Ship Month'] = E_Commerce['Ship Date'].dt.month_name()\n",
    "E_Commerce['Ship Month No'] = E_Commerce['Ship Date'].dt.month"
   ]
  },
  {
   "cell_type": "code",
   "execution_count": 57,
   "metadata": {},
   "outputs": [],
   "source": [
    "E_Commerce['Order Season'] = E_Commerce['Order Month No'].apply(lambda value: 'winter'if value in (12, 1, 2)\n",
    "                                                                 else 'Spring'if value in (3, 4, 5) \n",
    "                                                                 else 'Summer'if value in (6, 7, 8) \n",
    "                                                                 else 'Fall' )"
   ]
  },
  {
   "cell_type": "code",
   "execution_count": 58,
   "metadata": {},
   "outputs": [],
   "source": [
    "E_Commerce['Ship Season'] = E_Commerce['Ship Month No'].apply(lambda value: 'winter'if value in (12, 1, 2)\n",
    "                                                                 else 'Spring'if value in (3, 4, 5) \n",
    "                                                                 else 'Summer'if value in (6, 7, 8) \n",
    "                                                                 else 'Fall' )"
   ]
  },
  {
   "cell_type": "code",
   "execution_count": 75,
   "metadata": {},
   "outputs": [],
   "source": [
    "E_Commerce['Total Revenue'] = E_Commerce['Sales'] * E_Commerce['Quantity']"
   ]
  },
  {
   "cell_type": "code",
   "execution_count": 76,
   "metadata": {},
   "outputs": [],
   "source": [
    "E_Commerce['Status'] = E_Commerce['Profit'].apply(lambda x: 'Profit' if x > 0 else 'Loss')"
   ]
  }
 ],
 "metadata": {
  "kernelspec": {
   "display_name": "Exp",
   "language": "python",
   "name": "python3"
  },
  "language_info": {
   "codemirror_mode": {
    "name": "ipython",
    "version": 3
   },
   "file_extension": ".py",
   "mimetype": "text/x-python",
   "name": "python",
   "nbconvert_exporter": "python",
   "pygments_lexer": "ipython3",
   "version": "3.12.8"
  }
 },
 "nbformat": 4,
 "nbformat_minor": 2
}
