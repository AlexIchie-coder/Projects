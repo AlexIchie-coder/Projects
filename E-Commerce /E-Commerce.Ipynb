{
 "cells": [
  {
   "cell_type": "code",
   "execution_count": 1,
   "metadata": {},
   "outputs": [],
   "source": [
    "\n",
    "import pandas as pd\n",
    "import numpy  as np\n",
    "import matplotlib.pyplot as plt\n",
    "import seaborn as sns\n",
    "import sqlite3 as sql\n",
    "import os\n",
    "from sqlite3 import Error"
   ]
  },
  {
   "cell_type": "code",
   "execution_count": 2,
   "metadata": {},
   "outputs": [],
   "source": [
    "# Try different encodings\n",
    "try:\n",
    "    e_com = pd.read_csv('Sample-Superstore.csv', encoding='utf-8')\n",
    "except UnicodeDecodeError:\n",
    "    # Try alternative encodings\n",
    "    e_com = pd.read_csv('Sample-Superstore.csv', encoding='latin-1')\n"
   ]
  },
  {
   "cell_type": "code",
   "execution_count": 3,
   "metadata": {},
   "outputs": [],
   "source": [
    "E_Commerce = e_com"
   ]
  },
  {
   "cell_type": "code",
   "execution_count": 4,
   "metadata": {},
   "outputs": [
    {
     "data": {
      "text/plain": [
       "(9994, 21)"
      ]
     },
     "execution_count": 4,
     "metadata": {},
     "output_type": "execute_result"
    }
   ],
   "source": [
    "E_Commerce.shape"
   ]
  },
  {
   "cell_type": "code",
   "execution_count": 5,
   "metadata": {},
   "outputs": [
    {
     "data": {
      "text/plain": [
       "Index(['Row ID', 'Order ID', 'Order Date', 'Ship Date', 'Ship Mode',\n",
       "       'Customer ID', 'Customer Name', 'Segment', 'Country', 'City', 'State',\n",
       "       'Postal Code', 'Region', 'Product ID', 'Category', 'Sub-Category',\n",
       "       'Product Name', 'Sales', 'Quantity', 'Discount', 'Profit'],\n",
       "      dtype='object')"
      ]
     },
     "execution_count": 5,
     "metadata": {},
     "output_type": "execute_result"
    }
   ],
   "source": [
    "E_Commerce.columns"
   ]
  },
  {
   "cell_type": "code",
   "execution_count": 6,
   "metadata": {},
   "outputs": [
    {
     "data": {
      "text/plain": [
       "0         Second Class\n",
       "1         Second Class\n",
       "2         Second Class\n",
       "3       Standard Class\n",
       "4       Standard Class\n",
       "             ...      \n",
       "9989      Second Class\n",
       "9990    Standard Class\n",
       "9991    Standard Class\n",
       "9992    Standard Class\n",
       "9993      Second Class\n",
       "Name: Ship Mode, Length: 9994, dtype: object"
      ]
     },
     "execution_count": 6,
     "metadata": {},
     "output_type": "execute_result"
    }
   ],
   "source": [
    "E_Commerce['Ship Mode']"
   ]
  },
  {
   "cell_type": "code",
   "execution_count": 7,
   "metadata": {},
   "outputs": [],
   "source": [
    "#change the column names to lowercase and replace spaces with underscores\n",
    "E_Commerce.columns = E_Commerce.columns.str.lower().str.replace(' ', '_')"
   ]
  },
  {
   "cell_type": "code",
   "execution_count": 8,
   "metadata": {},
   "outputs": [],
   "source": [
    "#find missing null values\n",
    "E_Commerce.isnull().sum()\n",
    "\n",
    "#drop missing values\n",
    "E_Commerce = E_Commerce.dropna()"
   ]
  },
  {
   "cell_type": "code",
   "execution_count": 9,
   "metadata": {},
   "outputs": [],
   "source": [
    "# Convert started_at and ended_at to datetime for memory efficiency\n",
    "E_Commerce['order_date'] = pd.to_datetime(E_Commerce['order_date'])\n",
    "E_Commerce['ship_date'] = pd.to_datetime(E_Commerce['ship_date'])"
   ]
  },
  {
   "cell_type": "markdown",
   "metadata": {},
   "source": [
    "# FUTURE ENGINEERING "
   ]
  },
  {
   "cell_type": "markdown",
   "metadata": {},
   "source": [
    "## ADDING NEW COLUMNS "
   ]
  },
  {
   "cell_type": "code",
   "execution_count": 10,
   "metadata": {},
   "outputs": [],
   "source": [
    "# Extract month from OrderDate\n",
    "E_Commerce['month'] = E_Commerce['order_date'].dt.month\n",
    "E_Commerce['year'] = E_Commerce['order_date'].dt.year\n",
    "E_Commerce['monthname'] = E_Commerce['order_date'].dt.month_name()\n",
    "\n",
    "\n",
    "\n"
   ]
  },
  {
   "cell_type": "code",
   "execution_count": 11,
   "metadata": {},
   "outputs": [
    {
     "data": {
      "text/plain": [
       "Index(['row_id', 'order_id', 'order_date', 'ship_date', 'ship_mode',\n",
       "       'customer_id', 'customer_name', 'segment', 'country', 'city', 'state',\n",
       "       'postal_code', 'region', 'product_id', 'category', 'sub-category',\n",
       "       'product_name', 'sales', 'quantity', 'discount', 'profit', 'month',\n",
       "       'year', 'monthname'],\n",
       "      dtype='object')"
      ]
     },
     "execution_count": 11,
     "metadata": {},
     "output_type": "execute_result"
    }
   ],
   "source": [
    "E_Commerce.columns"
   ]
  },
  {
   "cell_type": "code",
   "execution_count": 12,
   "metadata": {},
   "outputs": [],
   "source": [
    "# Define a function to map months to seasons\n",
    "def get_season(month):\n",
    "    if month in [12, 1, 2]:\n",
    "        return 'Winter'\n",
    "    elif month in [3, 4, 5]:\n",
    "        return 'Spring'\n",
    "    elif month in [6, 7, 8]:\n",
    "        return 'Summer'\n",
    "    else:\n",
    "        return 'Fall'\n",
    "\n",
    "# Apply function to create 'Season' column\n",
    "E_Commerce['season'] = E_Commerce['order_date'].dt.month.apply(get_season)\n",
    "\n",
    "\n"
   ]
  },
  {
   "cell_type": "code",
   "execution_count": 13,
   "metadata": {},
   "outputs": [],
   "source": [
    "\n",
    "\n",
    "# Add new 'ship_id' column\n",
    "E_Commerce['ship_id'] = None  # Or assign default values\n",
    "E_Commerce['region_id'] = None\n",
    "E_Commerce['profit_id'] = None\n"
   ]
  },
  {
   "cell_type": "code",
   "execution_count": 14,
   "metadata": {},
   "outputs": [],
   "source": [
    "#Adding new column for Total Revenue\n",
    "E_Commerce['total_revenue'] = E_Commerce['sales'] * E_Commerce['quantity']"
   ]
  },
  {
   "cell_type": "code",
   "execution_count": 15,
   "metadata": {},
   "outputs": [],
   "source": [
    "#Adding new column for Profit and Loss\n",
    "E_Commerce['status'] = E_Commerce['profit'].apply(lambda x: 'Profit' if x > 0 else 'Loss')"
   ]
  },
  {
   "cell_type": "code",
   "execution_count": 16,
   "metadata": {},
   "outputs": [
    {
     "name": "stdout",
     "output_type": "stream",
     "text": [
      "      row_id        order_id order_date  ship_date       ship_mode  \\\n",
      "350      351  CA-2016-129714 2016-09-01 2016-09-03     First Class   \n",
      "352      353  CA-2016-129714 2016-09-01 2016-09-03     First Class   \n",
      "430      431  US-2016-123750 2016-04-15 2016-04-21  Standard Class   \n",
      "431      432  US-2016-123750 2016-04-15 2016-04-21  Standard Class   \n",
      "1300    1301  CA-2016-137043 2016-12-23 2016-12-25    Second Class   \n",
      "1301    1302  CA-2016-137043 2016-12-23 2016-12-25    Second Class   \n",
      "3183    3184  CA-2017-152912 2017-11-09 2017-11-12    Second Class   \n",
      "3184    3185  CA-2017-152912 2017-11-09 2017-11-12    Second Class   \n",
      "3405    3406  US-2014-150119 2014-04-23 2014-04-27  Standard Class   \n",
      "3406    3407  US-2014-150119 2014-04-23 2014-04-27  Standard Class   \n",
      "6498    6499  CA-2015-103135 2015-07-24 2015-07-28  Standard Class   \n",
      "6500    6501  CA-2015-103135 2015-07-24 2015-07-28  Standard Class   \n",
      "7881    7882  CA-2017-118017 2017-12-03 2017-12-06    Second Class   \n",
      "7882    7883  CA-2017-118017 2017-12-03 2017-12-06    Second Class   \n",
      "9168    9169  CA-2016-140571 2016-03-15 2016-03-19  Standard Class   \n",
      "9169    9170  CA-2016-140571 2016-03-15 2016-03-19  Standard Class   \n",
      "\n",
      "     customer_id    customer_name      segment        country           city  \\\n",
      "350     AB-10060  Adam Bellavance  Home Office  United States  New York City   \n",
      "352     AB-10060  Adam Bellavance  Home Office  United States  New York City   \n",
      "430     RB-19795       Ross Baird  Home Office  United States       Gastonia   \n",
      "431     RB-19795       Ross Baird  Home Office  United States       Gastonia   \n",
      "1300    LC-17140     Logan Currie     Consumer  United States    Springfield   \n",
      "1301    LC-17140     Logan Currie     Consumer  United States    Springfield   \n",
      "3183    BM-11650       Brian Moss    Corporate  United States       Columbia   \n",
      "3184    BM-11650       Brian Moss    Corporate  United States       Columbia   \n",
      "3405    LB-16795   Laurel Beltran  Home Office  United States       Columbus   \n",
      "3406    LB-16795   Laurel Beltran  Home Office  United States       Columbus   \n",
      "6498    SS-20515  Shirley Schmidt  Home Office  United States     Louisville   \n",
      "6500    SS-20515  Shirley Schmidt  Home Office  United States     Louisville   \n",
      "7881    LC-16870    Lena Cacioppo     Consumer  United States       Thornton   \n",
      "7882    LC-16870    Lena Cacioppo     Consumer  United States       Thornton   \n",
      "9168    SJ-20125    Sanjit Jacobs  Home Office  United States        Jackson   \n",
      "9169    SJ-20125    Sanjit Jacobs  Home Office  United States        Jackson   \n",
      "\n",
      "      ...    profit  month  year  monthname  season ship_id region_id  \\\n",
      "350   ...   11.5432      9  2016  September    Fall    None      None   \n",
      "352   ...   23.0864      9  2016  September    Fall    None      None   \n",
      "430   ...   76.6395      4  2016      April  Spring    None      None   \n",
      "431   ...   54.7425      4  2016      April  Spring    None      None   \n",
      "1300  ...  166.1004     12  2016   December  Winter    None      None   \n",
      "1301  ...   83.0502     12  2016   December  Winter    None      None   \n",
      "3183  ...  473.6106     11  2017   November    Fall    None      None   \n",
      "3184  ...  157.8702     11  2017   November    Fall    None      None   \n",
      "3405  ...  -12.0588      4  2014      April  Spring    None      None   \n",
      "3406  ...  -12.0588      4  2014      April  Spring    None      None   \n",
      "6498  ...   62.1414      7  2015       July  Summer    None      None   \n",
      "6500  ...   41.4276      7  2015       July  Summer    None      None   \n",
      "7881  ...   10.5534     12  2017   December  Winter    None      None   \n",
      "7882  ...   14.0712     12  2017   December  Winter    None      None   \n",
      "9168  ...  147.0896      3  2016      March  Spring    None      None   \n",
      "9169  ...   21.0128      3  2016      March  Spring    None      None   \n",
      "\n",
      "      profit_id  total_revenue  status  \n",
      "350        None         49.120  Profit  \n",
      "352        None        196.480  Profit  \n",
      "430        None       2861.208  Profit  \n",
      "431        None       1459.800  Profit  \n",
      "1300       None       3436.560  Profit  \n",
      "1301       None        859.140  Profit  \n",
      "3183       None      14698.260  Profit  \n",
      "3184       None       1633.140  Profit  \n",
      "3405       None        562.744    Loss  \n",
      "3406       None        562.744    Loss  \n",
      "6498       None       1215.810  Profit  \n",
      "6500       None        540.360  Profit  \n",
      "7881       None        460.512  Profit  \n",
      "7882       None        818.688  Profit  \n",
      "9168       None       4476.640  Profit  \n",
      "9169       None         91.360  Profit  \n",
      "\n",
      "[16 rows x 30 columns]\n"
     ]
    }
   ],
   "source": [
    "# Check for duplicates in OrderID and ProductID\n",
    "duplicates = E_Commerce[E_Commerce.duplicated(subset=[\"order_id\", \"product_id\"], keep=False)]\n",
    "\n",
    "# Display duplicates\n",
    "print(duplicates)"
   ]
  },
  {
   "cell_type": "code",
   "execution_count": 17,
   "metadata": {},
   "outputs": [],
   "source": [
    "# Rename columns in the DataFrame\n",
    "E_Commerce = E_Commerce.rename(columns={\n",
    "    'segment': 'segments',\n",
    "    'sub-category': 'sub_category',\n",
    "    'sales': 'sale',\n",
    "    'ship_month': 'ship_month_name'\n",
    "})"
   ]
  },
  {
   "cell_type": "code",
   "execution_count": 18,
   "metadata": {},
   "outputs": [],
   "source": [
    "# Rename columns in the DataFrame\n",
    "E_Commerce = E_Commerce.rename(columns={\n",
    "    'sub-category': 'sub_category',  # Rename 'sub-category' to 'sub_category'\n",
    "    'segments': 'segment'            # Rename 'segment' to 'segments'\n",
    "})"
   ]
  },
  {
   "cell_type": "code",
   "execution_count": 19,
   "metadata": {},
   "outputs": [
    {
     "data": {
      "text/plain": [
       "0       Profit\n",
       "1       Profit\n",
       "2       Profit\n",
       "3         Loss\n",
       "4       Profit\n",
       "         ...  \n",
       "9989    Profit\n",
       "9990    Profit\n",
       "9991    Profit\n",
       "9992    Profit\n",
       "9993    Profit\n",
       "Name: status, Length: 9994, dtype: object"
      ]
     },
     "execution_count": 19,
     "metadata": {},
     "output_type": "execute_result"
    }
   ],
   "source": [
    "E_Commerce['status']"
   ]
  },
  {
   "cell_type": "markdown",
   "metadata": {},
   "source": [
    "# Login To SQL"
   ]
  },
  {
   "cell_type": "code",
   "execution_count": 26,
   "metadata": {},
   "outputs": [],
   "source": [
    "import sqlite3\n",
    "\n",
    "try:\n",
    "    # Create SQLite connection\n",
    "    conn = sqlite3.connect(\"superstore.db\")\n",
    "    cursor = conn.cursor()\n",
    "\n",
    "    # Create Tables\n",
    "    cursor.executescript('''\n",
    "    -- Customers Table\n",
    "    CREATE TABLE IF NOT EXISTS Customers (\n",
    "        customer_id VARCHAR(20) PRIMARY KEY,\n",
    "        customer_name VARCHAR(100)\n",
    "    );\n",
    "\n",
    "    -- Orders Table\n",
    "    CREATE TABLE IF NOT EXISTS Orders (\n",
    "        order_id VARCHAR(20) PRIMARY KEY,\n",
    "        order_date DATE,\n",
    "        year INT,\n",
    "        monthname VARCHAR(50),\n",
    "        month VARCHAR(50),\n",
    "        season VARCHAR(50),\n",
    "        customer_id VARCHAR(20),\n",
    "        FOREIGN KEY (customer_id) REFERENCES Customers(customer_id)\n",
    "    );\n",
    "\n",
    "    -- Products Table\n",
    "    CREATE TABLE IF NOT EXISTS Products (\n",
    "        product_id VARCHAR(20) PRIMARY KEY,\n",
    "        product_name VARCHAR(255),\n",
    "        category VARCHAR(50),\n",
    "        sub_category VARCHAR(50),\n",
    "        segment VARCHAR(50)\n",
    "    );\n",
    "\n",
    "    -- Shipment Table\n",
    "    CREATE TABLE IF NOT EXISTS Shipment (\n",
    "        ship_id INTEGER PRIMARY KEY AUTOINCREMENT,\n",
    "        ship_date DATE,\n",
    "        ship_mode VARCHAR(20),\n",
    "        order_id VARCHAR(20),\n",
    "        FOREIGN KEY (order_id) REFERENCES Orders(order_id)\n",
    "    );\n",
    "\n",
    "    -- Regions Table\n",
    "    CREATE TABLE IF NOT EXISTS Regions (\n",
    "        region_id INTEGER PRIMARY KEY AUTOINCREMENT,\n",
    "        country VARCHAR(100),\n",
    "        region VARCHAR(50),\n",
    "        state VARCHAR(50),\n",
    "        city VARCHAR(100),\n",
    "        postal_code INT\n",
    "    );\n",
    "\n",
    "    -- Profits Table\n",
    "    CREATE TABLE IF NOT EXISTS Profits (\n",
    "        profit_id INTEGER PRIMARY KEY AUTOINCREMENT,\n",
    "        profit DECIMAL(10, 2),\n",
    "        sale DECIMAL(10, 2),\n",
    "        total_revenue DECIMAL(10, 2),\n",
    "        status VARCHAR(100),\n",
    "        discount DECIMAL(5, 2),\n",
    "        quantity INT,\n",
    "        product_id VARCHAR(20),\n",
    "        FOREIGN KEY (product_id) REFERENCES Products(product_id)\n",
    "    );\n",
    "    ''')\n",
    "\n",
    "    # Commit changes\n",
    "    conn.commit()\n",
    "\n",
    "except sqlite3.Error as e:\n",
    "    print(f\"An error occurred: {e}\")\n",
    "\n",
    "finally:\n",
    "    # Close connection\n",
    "    if conn:\n",
    "        conn.close()"
   ]
  },
  {
   "cell_type": "code",
   "execution_count": 27,
   "metadata": {},
   "outputs": [],
   "source": [
    "import pandas as pd\n",
    "import sqlite3\n",
    "import logging\n",
    "\n",
    "# Configure logging\n",
    "logging.basicConfig(level=logging.INFO)\n",
    "\n",
    "def populate_database_tables(conn, E_Commerce):\n",
    "    \"\"\"\n",
    "    Populates the database tables with data from the enriched DataFrame.\n",
    "    \n",
    "    Args:\n",
    "        conn (sqlite3.Connection): The database connection\n",
    "        E_Commerce (pandas.DataFrame): Enriched DataFrame with the column names as shown\n",
    "        \n",
    "    Returns:\n",
    "        sqlite3.Connection: The database connection\n",
    "    \"\"\"\n",
    "    cursor = conn.cursor()\n",
    "    \n",
    "    try:\n",
    "        # Disable foreign key checks for performance\n",
    "        cursor.execute(\"PRAGMA foreign_keys = OFF;\")\n",
    "\n",
    "        # Customers\n",
    "        customers_df = E_Commerce[['customer_id', 'customer_name']].drop_duplicates()\n",
    "        customers_df = customers_df.where(pd.notna(customers_df), None)\n",
    "        cursor.executemany(\n",
    "            \"INSERT OR IGNORE INTO Customers (customer_id, customer_name) VALUES (?, ?)\",\n",
    "            customers_df.to_records(index=False)\n",
    "        )\n",
    "\n",
    "        # Orders\n",
    "        orders_df = E_Commerce[['order_id', 'order_date', 'year', 'monthname', 'month', 'season', 'customer_id']].drop_duplicates()\n",
    "        orders_df['order_date'] = orders_df['order_date'].apply(lambda x: x.strftime('%Y-%m-%d') if pd.notna(x) else None)\n",
    "        cursor.executemany(\n",
    "            \"INSERT OR IGNORE INTO Orders (order_id, order_date, year, monthname, month, season, customer_id) VALUES (?, ?, ?, ?, ?, ?, ?)\",\n",
    "            orders_df.to_records(index=False)\n",
    "        )\n",
    "\n",
    "        # Products\n",
    "        products_df = E_Commerce[['product_id', 'product_name', 'category', 'sub_category', 'segment']].drop_duplicates()\n",
    "        cursor.executemany(\n",
    "            \"INSERT OR IGNORE INTO Products (product_id, product_name, category, sub_category, segment) VALUES (?, ?, ?, ?, ?)\",\n",
    "            products_df.to_records(index=False)\n",
    "        )\n",
    "\n",
    "        # Regions\n",
    "        regions_df = E_Commerce[['region_id', 'country', 'region', 'state', 'city', 'postal_code']].drop_duplicates()\n",
    "        cursor.executemany(\n",
    "            \"INSERT OR IGNORE INTO Regions (region_id, country, region, state, city, postal_code) VALUES (?, ?, ?, ?, ?, ?)\",\n",
    "            regions_df.to_records(index=False)\n",
    "        )\n",
    "\n",
    "        # Profits\n",
    "        profits_df = E_Commerce[['profit_id', 'profit', 'sale', 'total_revenue', 'status', 'discount', 'quantity', 'product_id']].drop_duplicates()\n",
    "        cursor.executemany(\n",
    "            \"INSERT OR IGNORE INTO Profits (profit_id, profit, sale, total_revenue, status, discount, quantity, product_id) VALUES (?, ?, ?, ?, ?, ?, ?, ?)\",\n",
    "            profits_df.to_records(index=False)\n",
    "        )\n",
    "\n",
    "        # Shipment\n",
    "        shipment_df = E_Commerce[['ship_id', 'ship_date', 'ship_mode', 'order_id']].drop_duplicates()\n",
    "        shipment_df['ship_date'] = shipment_df['ship_date'].apply(lambda x: x.strftime('%Y-%m-%d') if pd.notna(x) else None)\n",
    "        cursor.executemany(\n",
    "            \"INSERT OR IGNORE INTO Shipment (ship_id, ship_date, ship_mode, order_id) VALUES (?, ?, ?, ?)\",\n",
    "            shipment_df.to_records(index=False)\n",
    "        )\n",
    "\n",
    "        # Re-enable foreign key checks\n",
    "        cursor.execute(\"PRAGMA foreign_keys = ON;\")\n",
    "\n",
    "        # Commit changes\n",
    "        conn.commit()\n",
    "        logging.info(\"✅ Tables populated successfully!\")\n",
    "    \n",
    "    except Exception as e:\n",
    "        logging.error(f\"⚠️ An error occurred: {e}\")\n",
    "    \n",
    "    return conn"
   ]
  },
  {
   "cell_type": "code",
   "execution_count": 28,
   "metadata": {},
   "outputs": [
    {
     "name": "stdout",
     "output_type": "stream",
     "text": [
      "Index(['row_id', 'order_id', 'order_date', 'ship_date', 'ship_mode',\n",
      "       'customer_id', 'customer_name', 'segment', 'country', 'city', 'state',\n",
      "       'postal_code', 'region', 'product_id', 'category', 'sub_category',\n",
      "       'product_name', 'sale', 'quantity', 'discount', 'profit', 'month',\n",
      "       'year', 'monthname', 'season', 'ship_id', 'region_id', 'profit_id',\n",
      "       'total_revenue', 'status'],\n",
      "      dtype='object')\n",
      "   row_id        order_id order_date  ship_date       ship_mode customer_id  \\\n",
      "0       1  CA-2016-152156 2016-11-08 2016-11-11    Second Class    CG-12520   \n",
      "1       2  CA-2016-152156 2016-11-08 2016-11-11    Second Class    CG-12520   \n",
      "2       3  CA-2016-138688 2016-06-12 2016-06-16    Second Class    DV-13045   \n",
      "3       4  US-2015-108966 2015-10-11 2015-10-18  Standard Class    SO-20335   \n",
      "4       5  US-2015-108966 2015-10-11 2015-10-18  Standard Class    SO-20335   \n",
      "\n",
      "     customer_name    segment        country             city  ...    profit  \\\n",
      "0      Claire Gute   Consumer  United States        Henderson  ...   41.9136   \n",
      "1      Claire Gute   Consumer  United States        Henderson  ...  219.5820   \n",
      "2  Darrin Van Huff  Corporate  United States      Los Angeles  ...    6.8714   \n",
      "3   Sean O'Donnell   Consumer  United States  Fort Lauderdale  ... -383.0310   \n",
      "4   Sean O'Donnell   Consumer  United States  Fort Lauderdale  ...    2.5164   \n",
      "\n",
      "   month  year monthname  season ship_id region_id  profit_id  total_revenue  \\\n",
      "0     11  2016  November    Fall    None      None       None       523.9200   \n",
      "1     11  2016  November    Fall    None      None       None      2195.8200   \n",
      "2      6  2016      June  Summer    None      None       None        29.2400   \n",
      "3     10  2015   October    Fall    None      None       None      4787.8875   \n",
      "4     10  2015   October    Fall    None      None       None        44.7360   \n",
      "\n",
      "   status  \n",
      "0  Profit  \n",
      "1  Profit  \n",
      "2  Profit  \n",
      "3    Loss  \n",
      "4  Profit  \n",
      "\n",
      "[5 rows x 30 columns]\n",
      "row_id              0\n",
      "order_id            0\n",
      "order_date          0\n",
      "ship_date           0\n",
      "ship_mode           0\n",
      "customer_id         0\n",
      "customer_name       0\n",
      "segment             0\n",
      "country             0\n",
      "city                0\n",
      "state               0\n",
      "postal_code         0\n",
      "region              0\n",
      "product_id          0\n",
      "category            0\n",
      "sub_category        0\n",
      "product_name        0\n",
      "sale                0\n",
      "quantity            0\n",
      "discount            0\n",
      "profit              0\n",
      "month               0\n",
      "year                0\n",
      "monthname           0\n",
      "season              0\n",
      "ship_id          9994\n",
      "region_id        9994\n",
      "profit_id        9994\n",
      "total_revenue       0\n",
      "status              0\n",
      "dtype: int64\n"
     ]
    }
   ],
   "source": [
    "# Check column names\n",
    "print(E_Commerce.columns)\n",
    "\n",
    "# Inspect the first few rows\n",
    "print(E_Commerce.head())\n",
    "\n",
    "# Check for missing values\n",
    "print(E_Commerce.isnull().sum())"
   ]
  },
  {
   "cell_type": "code",
   "execution_count": 29,
   "metadata": {},
   "outputs": [
    {
     "name": "stderr",
     "output_type": "stream",
     "text": [
      "INFO:root:✅ Tables populated successfully!\n"
     ]
    }
   ],
   "source": [
    "# Open the database connection\n",
    "conn = sqlite3.connect(\"superstore.db\")\n",
    "\n",
    "# Call the function to populate tables\n",
    "populate_database_tables(conn, E_Commerce)\n",
    "\n",
    "# Close the connection after the function completes\n",
    "conn.close()"
   ]
  },
  {
   "cell_type": "code",
   "execution_count": 31,
   "metadata": {},
   "outputs": [],
   "source": [
    "# conn = sqlite3.connect(\"superstore.db\")\n",
    "# cursor = conn.cursor()\n",
    "\n",
    "# # Query Customers Table\n",
    "# print(\"Customers Table:\")\n",
    "# cursor.execute(\"SELECT * FROM Customers\")\n",
    "# print(cursor.fetchall())\n",
    "\n",
    "# # Query Orders Table\n",
    "# print(\"\\nOrders Table:\")\n",
    "# cursor.execute(\"SELECT * FROM Orders\")\n",
    "# print(cursor.fetchall())\n",
    "\n",
    "# # Query Products Table\n",
    "# print(\"\\nProducts Table:\")\n",
    "# cursor.execute(\"SELECT * FROM Products\")\n",
    "# print(cursor.fetchall())\n",
    "\n",
    "# # Query Regions Table\n",
    "# print(\"\\nRegions Table:\")\n",
    "# cursor.execute(\"SELECT * FROM Regions\")\n",
    "# print(cursor.fetchall())\n",
    "\n",
    "# # Query Profits Table\n",
    "# print(\"\\nProfits Table:\")\n",
    "# cursor.execute(\"SELECT * FROM Profits\")\n",
    "# print(cursor.fetchall())\n",
    "\n",
    "# # Query Shipment Table\n",
    "# print(\"\\nShipment Table:\")\n",
    "# cursor.execute(\"SELECT * FROM Shipment\")\n",
    "# print(cursor.fetchall())\n",
    "\n",
    "# conn.close()"
   ]
  },
  {
   "cell_type": "code",
   "execution_count": 25,
   "metadata": {},
   "outputs": [],
   "source": [
    "E_Commerce.to_csv('E_Commerce.csv', index=False)"
   ]
  },
  {
   "cell_type": "code",
   "execution_count": null,
   "metadata": {},
   "outputs": [],
   "source": []
  }
 ],
 "metadata": {
  "kernelspec": {
   "display_name": "Exp",
   "language": "python",
   "name": "python3"
  },
  "language_info": {
   "codemirror_mode": {
    "name": "ipython",
    "version": 3
   },
   "file_extension": ".py",
   "mimetype": "text/x-python",
   "name": "python",
   "nbconvert_exporter": "python",
   "pygments_lexer": "ipython3",
   "version": "3.12.8"
  }
 },
 "nbformat": 4,
 "nbformat_minor": 2
}
