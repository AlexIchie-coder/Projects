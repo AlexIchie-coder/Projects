{
 "cells": [
  {
   "cell_type": "code",
   "execution_count": 1,
   "metadata": {},
   "outputs": [],
   "source": [
    "import pandas as pd\n",
    "import numpy as np\n",
    "import matplotlib.pyplot as plt\n",
    "import ipywidgets as widgets\n",
    "from IPython.display import display, clear_output\n",
    "import matplotlib.pyplot as plt\n",
    "import statistics as st\n",
    "import seaborn as sns\n",
    "import datetime \n",
    "from geopy import distance\n",
    "import folium\n",
    "from folium.plugins import MarkerCluster\n",
    "from folium.features import GeoJsonTooltip\n",
    "from branca.colormap import LinearColormap\n",
    "from collections import Counter\n",
    "import geopy.distance\n",
    "from sklearn.model_selection import train_test_split\n",
    "from sklearn.linear_model import LinearRegression\n",
    "from sklearn.metrics import mean_squared_error, r2_score\n",
    "from sklearn.preprocessing import LabelEncoder\n",
    "from sklearn.preprocessing import OrdinalEncoder\n",
    "from sklearn.preprocessing import StandardScaler\n"
   ]
  },
  {
   "cell_type": "code",
   "execution_count": 2,
   "metadata": {},
   "outputs": [],
   "source": [
    "Capital_bike_share = pd.read_csv('dc_bikes_sample_3000.csv', sep=',')"
   ]
  },
  {
   "cell_type": "code",
   "execution_count": 3,
   "metadata": {},
   "outputs": [
    {
     "data": {
      "text/plain": [
       "Index(['ride_id', 'rideable_type', 'started_at', 'ended_at',\n",
       "       'start_station_name', 'start_station_id', 'end_station_name',\n",
       "       'end_station_id', 'start_lat', 'start_lng', 'end_lat', 'end_lng',\n",
       "       'member_casual', 'time_of_day', 'duration_hours', 'Date_year',\n",
       "       'Date_day', 'Date_dow_name', 'Date_month_name', 'Date_month_no', 'day',\n",
       "       'dow', 'weekend', 'Season', 'ride_count', 'hour', 'Minute', 'time'],\n",
       "      dtype='object')"
      ]
     },
     "execution_count": 3,
     "metadata": {},
     "output_type": "execute_result"
    }
   ],
   "source": [
    "Capital_bike_share.columns"
   ]
  },
  {
   "cell_type": "code",
   "execution_count": 4,
   "metadata": {},
   "outputs": [],
   "source": [
    "# Convert started_at and ended_at to datetime for memory efficiency\n",
    "Capital_bike_share['started_at'] = pd.to_datetime(Capital_bike_share['started_at'])\n",
    "Capital_bike_share['ended_at'] = pd.to_datetime(Capital_bike_share['ended_at'])"
   ]
  },
  {
   "cell_type": "code",
   "execution_count": 5,
   "metadata": {},
   "outputs": [],
   "source": [
    "# Calculate ride duration in hours\n",
    "Capital_bike_share['duration_hours'] = (Capital_bike_share['ended_at'] - Capital_bike_share['started_at']).dt.total_seconds() / 3600\n",
    "\n",
    "# Define the Haversine function\n",
    "def haversine(lat1, lon1, lat2, lon2):\n",
    "    \"\"\"\n",
    "    Calculate the great-circle distance between two points on the Earth using the Haversine formula.\n",
    "    Inputs:\n",
    "    - lat1, lon1: Latitude and longitude of point 1 in degrees.\n",
    "    - lat2, lon2: Latitude and longitude of point 2 in degrees.\n",
    "    Output:\n",
    "    - Distance in kilometers.\n",
    "    \"\"\"\n",
    "    # Convert latitude and longitude from degrees to radians\n",
    "    lat1, lon1, lat2, lon2 = map(np.radians, [lat1, lon1, lat2, lon2])\n",
    "    \n",
    "    # Haversine formula\n",
    "    dlat = lat2 - lat1\n",
    "    dlon = lon2 - lon1\n",
    "    a = np.sin(dlat / 2.0)**2 + np.cos(lat1) * np.cos(lat2) * np.sin(dlon / 2.0)**2\n",
    "    c = 2 * np.arcsin(np.sqrt(a))\n",
    "    r = 6371  # Radius of Earth in kilometers\n",
    "    return c * r"
   ]
  },
  {
   "cell_type": "code",
   "execution_count": 6,
   "metadata": {},
   "outputs": [],
   "source": [
    "# Calculate distance for each ride\n",
    "Capital_bike_share['distance_km'] = Capital_bike_share.apply(\n",
    "    lambda row: haversine(row['start_lat'], row['start_lng'], row['end_lat'], row['end_lng']),\n",
    "    axis=1\n",
    ")\n",
    "\n",
    "# Calculate speed in km/h\n",
    "Capital_bike_share['speed_kmh'] = Capital_bike_share['distance_km'] / Capital_bike_share['duration_hours']"
   ]
  },
  {
   "cell_type": "code",
   "execution_count": 7,
   "metadata": {},
   "outputs": [
    {
     "name": "stdout",
     "output_type": "stream",
     "text": [
      "        ride_id  rideable_type          started_at            ended_at  \\\n",
      "0        3363.0   classic_bike 2021-01-02 13:56:30 2021-01-02 14:02:06   \n",
      "1       97357.0    docked_bike 2021-01-30 15:34:48 2021-01-30 17:05:41   \n",
      "2       46177.0   classic_bike 2021-01-15 07:11:24 2021-01-15 07:13:20   \n",
      "3       95158.0   classic_bike 2021-01-30 06:49:29 2021-01-30 06:54:30   \n",
      "4       41194.0   classic_bike 2021-01-13 17:42:09 2021-01-13 17:46:28   \n",
      "...         ...            ...                 ...                 ...   \n",
      "107995      NaN   classic_bike 2023-12-17 13:55:51 2023-12-17 14:01:24   \n",
      "107996      NaN   classic_bike 2023-12-09 09:44:07 2023-12-09 09:55:03   \n",
      "107997      NaN  electric_bike 2023-12-04 23:03:13 2023-12-04 23:21:05   \n",
      "107998      NaN   classic_bike 2023-12-11 09:23:48 2023-12-11 09:27:21   \n",
      "107999      NaN  electric_bike 2023-12-13 17:28:45 2023-12-13 17:41:42   \n",
      "\n",
      "                                  start_station_name  start_station_id  \\\n",
      "0                                     15th & P St NW           31201.0   \n",
      "1                                   Lincoln Memorial           31258.0   \n",
      "2                                     11th & M St NW           31266.0   \n",
      "3                                     12th & L St NW           31251.0   \n",
      "4                   King St Metro North / Cameron St           31098.0   \n",
      "...                                              ...               ...   \n",
      "107995                                24th & N St NW           31255.0   \n",
      "107996                                15th & P St NW           31201.0   \n",
      "107997  Long Bridge Park / Long Bridge Dr & 6th St S           31090.0   \n",
      "107998                            Half & Water St SW           31664.0   \n",
      "107999                                15th & P St NW           31201.0   \n",
      "\n",
      "                                 end_station_name  end_station_id  start_lat  \\\n",
      "0                   20th & O St NW / Dupont South         31234.0  38.909868   \n",
      "1                                   4th & M St SE         31652.0  38.888255   \n",
      "2               Convention Center / 7th & M St NW         31223.0  38.905578   \n",
      "3       7th & F St NW / National Portrait Gallery         31232.0  38.903819   \n",
      "4                            King St & Patrick St         31044.0  38.807040   \n",
      "...                                           ...             ...        ...   \n",
      "107995                             22nd & H St NW         31127.0  38.906600   \n",
      "107996              18th St & Pennsylvania Ave NW         31242.0  38.909801   \n",
      "107997                    Wisconsin Ave & O St NW         31312.0  38.865514   \n",
      "107998                              1st & Q St SW         31676.0  38.866277   \n",
      "107999                              3rd & H St NE         31616.0  38.909829   \n",
      "\n",
      "        start_lng  ...  dow  weekend  Season ride_count  hour  Minute  \\\n",
      "0      -77.034421  ...    5        1  winter    7690469    13      56   \n",
      "1      -77.049437  ...    5        1  winter     534336    15      34   \n",
      "2      -77.027313  ...    4        0  winter    7690469     7      11   \n",
      "3      -77.028400  ...    5        1  winter    7690469     6      49   \n",
      "4      -77.059817  ...    2        0  winter    7690469    17      42   \n",
      "...           ...  ...  ...      ...     ...        ...   ...     ...   \n",
      "107995 -77.051520  ...    6        1  winter    7690469    13      55   \n",
      "107996 -77.034427  ...    5        1  winter    7690469     9      44   \n",
      "107997 -77.049985  ...    0        0  winter    1347887    23       3   \n",
      "107998 -77.010551  ...    0        0  winter    7690469     9      23   \n",
      "107999 -77.034429  ...    2        0  winter    1347887    17      28   \n",
      "\n",
      "            time distance_km  speed_kmh  ride_duration  \n",
      "0       13:56:30    0.902689   9.671665       5.600000  \n",
      "1       15:34:48    4.405273   2.908304      90.883333  \n",
      "2       07:11:24    0.436726  13.553551       1.933333  \n",
      "3       06:49:29    0.903830  10.809931       5.016667  \n",
      "4       17:42:09    0.881854  12.257427       4.316667  \n",
      "...          ...         ...        ...            ...  \n",
      "107995  13:55:51    0.884039   9.557178       5.550000  \n",
      "107996  09:44:07    1.282644   7.038898      10.933333  \n",
      "107997  23:03:13    4.921568  16.527654      17.866667  \n",
      "107998  09:23:48    0.519207   8.775328       3.550000  \n",
      "107999  17:28:45    2.999215  13.895977      12.950000  \n",
      "\n",
      "[108000 rows x 31 columns]\n"
     ]
    }
   ],
   "source": [
    "# --- Step 1: Convert 'started_at' and 'ended_at' to datetime format ---\n",
    "Capital_bike_share['started_at'] = pd.to_datetime(Capital_bike_share['started_at'])\n",
    "Capital_bike_share['ended_at'] = pd.to_datetime(Capital_bike_share['ended_at'])\n",
    "\n",
    "# --- Step 2: Calculate ride duration in minutes ---\n",
    "Capital_bike_share['ride_duration'] = (Capital_bike_share['ended_at'] - Capital_bike_share['started_at']).dt.total_seconds() / 60  # Convert to minutes\n",
    "\n",
    "# Display the updated DataFrame\n",
    "print(Capital_bike_share)"
   ]
  },
  {
   "cell_type": "code",
   "execution_count": 8,
   "metadata": {},
   "outputs": [
    {
     "data": {
      "text/plain": [
       "Index(['ride_id', 'rideable_type', 'started_at', 'ended_at',\n",
       "       'start_station_name', 'start_station_id', 'end_station_name',\n",
       "       'end_station_id', 'start_lat', 'start_lng', 'end_lat', 'end_lng',\n",
       "       'member_casual', 'time_of_day', 'duration_hours', 'Date_year',\n",
       "       'Date_day', 'Date_dow_name', 'Date_month_name', 'Date_month_no', 'day',\n",
       "       'dow', 'weekend', 'Season', 'ride_count', 'hour', 'Minute', 'time',\n",
       "       'distance_km', 'speed_kmh', 'ride_duration'],\n",
       "      dtype='object')"
      ]
     },
     "execution_count": 8,
     "metadata": {},
     "output_type": "execute_result"
    }
   ],
   "source": [
    "Capital_bike_share.columns"
   ]
  },
  {
   "cell_type": "code",
   "execution_count": 9,
   "metadata": {},
   "outputs": [
    {
     "data": {
      "text/plain": [
       "<bound method Series.unique of 0         winter\n",
       "1         winter\n",
       "2         winter\n",
       "3         winter\n",
       "4         winter\n",
       "           ...  \n",
       "107995    winter\n",
       "107996    winter\n",
       "107997    winter\n",
       "107998    winter\n",
       "107999    winter\n",
       "Name: Season, Length: 108000, dtype: object>"
      ]
     },
     "execution_count": 9,
     "metadata": {},
     "output_type": "execute_result"
    }
   ],
   "source": [
    "Capital_bike_share['Season'].unique"
   ]
  },
  {
   "cell_type": "code",
   "execution_count": 10,
   "metadata": {},
   "outputs": [
    {
     "name": "stdout",
     "output_type": "stream",
     "text": [
      "        ride_id  rideable_type          started_at            ended_at  \\\n",
      "0        3363.0   classic_bike 2021-01-02 13:56:30 2021-01-02 14:02:06   \n",
      "1       97357.0    docked_bike 2021-01-30 15:34:48 2021-01-30 17:05:41   \n",
      "2       46177.0   classic_bike 2021-01-15 07:11:24 2021-01-15 07:13:20   \n",
      "3       95158.0   classic_bike 2021-01-30 06:49:29 2021-01-30 06:54:30   \n",
      "4       41194.0   classic_bike 2021-01-13 17:42:09 2021-01-13 17:46:28   \n",
      "...         ...            ...                 ...                 ...   \n",
      "107995      NaN   classic_bike 2023-12-17 13:55:51 2023-12-17 14:01:24   \n",
      "107996      NaN   classic_bike 2023-12-09 09:44:07 2023-12-09 09:55:03   \n",
      "107997      NaN  electric_bike 2023-12-04 23:03:13 2023-12-04 23:21:05   \n",
      "107998      NaN   classic_bike 2023-12-11 09:23:48 2023-12-11 09:27:21   \n",
      "107999      NaN  electric_bike 2023-12-13 17:28:45 2023-12-13 17:41:42   \n",
      "\n",
      "                                  start_station_name  start_station_id  \\\n",
      "0                                     15th & P St NW           31201.0   \n",
      "1                                   Lincoln Memorial           31258.0   \n",
      "2                                     11th & M St NW           31266.0   \n",
      "3                                     12th & L St NW           31251.0   \n",
      "4                   King St Metro North / Cameron St           31098.0   \n",
      "...                                              ...               ...   \n",
      "107995                                24th & N St NW           31255.0   \n",
      "107996                                15th & P St NW           31201.0   \n",
      "107997  Long Bridge Park / Long Bridge Dr & 6th St S           31090.0   \n",
      "107998                            Half & Water St SW           31664.0   \n",
      "107999                                15th & P St NW           31201.0   \n",
      "\n",
      "                                 end_station_name  end_station_id  start_lat  \\\n",
      "0                   20th & O St NW / Dupont South         31234.0  38.909868   \n",
      "1                                   4th & M St SE         31652.0  38.888255   \n",
      "2               Convention Center / 7th & M St NW         31223.0  38.905578   \n",
      "3       7th & F St NW / National Portrait Gallery         31232.0  38.903819   \n",
      "4                            King St & Patrick St         31044.0  38.807040   \n",
      "...                                           ...             ...        ...   \n",
      "107995                             22nd & H St NW         31127.0  38.906600   \n",
      "107996              18th St & Pennsylvania Ave NW         31242.0  38.909801   \n",
      "107997                    Wisconsin Ave & O St NW         31312.0  38.865514   \n",
      "107998                              1st & Q St SW         31676.0  38.866277   \n",
      "107999                              3rd & H St NE         31616.0  38.909829   \n",
      "\n",
      "        start_lng  ...  weekend  Season ride_count hour  Minute      time  \\\n",
      "0      -77.034421  ...        1  winter    7690469   13      56  13:56:30   \n",
      "1      -77.049437  ...        1  winter     534336   15      34  15:34:48   \n",
      "2      -77.027313  ...        0  winter    7690469    7      11  07:11:24   \n",
      "3      -77.028400  ...        1  winter    7690469    6      49  06:49:29   \n",
      "4      -77.059817  ...        0  winter    7690469   17      42  17:42:09   \n",
      "...           ...  ...      ...     ...        ...  ...     ...       ...   \n",
      "107995 -77.051520  ...        1  winter    7690469   13      55  13:55:51   \n",
      "107996 -77.034427  ...        1  winter    7690469    9      44  09:44:07   \n",
      "107997 -77.049985  ...        0  winter    1347887   23       3  23:03:13   \n",
      "107998 -77.010551  ...        0  winter    7690469    9      23  09:23:48   \n",
      "107999 -77.034429  ...        0  winter    1347887   17      28  17:28:45   \n",
      "\n",
      "        distance_km  speed_kmh ride_duration  bike_availability_start  \n",
      "0          0.902689   9.671665      5.600000                     1094  \n",
      "1          4.405273   2.908304     90.883333                     1112  \n",
      "2          0.436726  13.553551      1.933333                      764  \n",
      "3          0.903830  10.809931      5.016667                      430  \n",
      "4          0.881854  12.257427      4.316667                       84  \n",
      "...             ...        ...           ...                      ...  \n",
      "107995     0.884039   9.557178      5.550000                      250  \n",
      "107996     1.282644   7.038898     10.933333                     1094  \n",
      "107997     4.921568  16.527654     17.866667                       34  \n",
      "107998     0.519207   8.775328      3.550000                      123  \n",
      "107999     2.999215  13.895977     12.950000                     1094  \n",
      "\n",
      "[108000 rows x 32 columns]\n"
     ]
    }
   ],
   "source": [
    "\n",
    "# --- Step 1: Count the Number of Rides from Each Start Station (Proxy for Availability) ---\n",
    "bike_availability = Capital_bike_share['start_station_name'].value_counts().reset_index()\n",
    "bike_availability.columns = ['start_station_name', 'bike_availability_start']\n",
    "\n",
    "# --- Step 2: Merge Availability Data into the Original DataFrame ---\n",
    "Capital_bike_share = Capital_bike_share.merge(bike_availability, on='start_station_name', how='left')\n",
    "\n",
    "# --- Display the Updated DataFrame ---\n",
    "print(Capital_bike_share)"
   ]
  },
  {
   "cell_type": "code",
   "execution_count": 11,
   "metadata": {},
   "outputs": [
    {
     "data": {
      "text/plain": [
       "0    1094\n",
       "1    1112\n",
       "2     764\n",
       "3     430\n",
       "4      84\n",
       "5     610\n",
       "6     123\n",
       "7     926\n",
       "8     435\n",
       "9     174\n",
       "Name: bike_availability_start, dtype: int64"
      ]
     },
     "execution_count": 11,
     "metadata": {},
     "output_type": "execute_result"
    }
   ],
   "source": [
    "Capital_bike_share['bike_availability_start'].head(10)"
   ]
  },
  {
   "cell_type": "markdown",
   "metadata": {},
   "source": [
    "# Multivariate LR"
   ]
  },
  {
   "cell_type": "code",
   "execution_count": 12,
   "metadata": {},
   "outputs": [
    {
     "data": {
      "text/plain": [
       "Index(['ride_id', 'rideable_type', 'started_at', 'ended_at',\n",
       "       'start_station_name', 'start_station_id', 'end_station_name',\n",
       "       'end_station_id', 'start_lat', 'start_lng', 'end_lat', 'end_lng',\n",
       "       'member_casual', 'time_of_day', 'duration_hours', 'Date_year',\n",
       "       'Date_day', 'Date_dow_name', 'Date_month_name', 'Date_month_no', 'day',\n",
       "       'dow', 'weekend', 'Season', 'ride_count', 'hour', 'Minute', 'time',\n",
       "       'distance_km', 'speed_kmh', 'ride_duration', 'bike_availability_start'],\n",
       "      dtype='object')"
      ]
     },
     "execution_count": 12,
     "metadata": {},
     "output_type": "execute_result"
    }
   ],
   "source": [
    "Capital_bike_share.columns"
   ]
  },
  {
   "cell_type": "code",
   "execution_count": 13,
   "metadata": {},
   "outputs": [
    {
     "data": {
      "text/plain": [
       "0     Saturday\n",
       "1     Saturday\n",
       "2       Friday\n",
       "3     Saturday\n",
       "4    Wednesday\n",
       "5       Monday\n",
       "6     Thursday\n",
       "7       Sunday\n",
       "8      Tuesday\n",
       "9     Saturday\n",
       "Name: Date_dow_name, dtype: object"
      ]
     },
     "execution_count": 13,
     "metadata": {},
     "output_type": "execute_result"
    }
   ],
   "source": [
    "Capital_bike_share['Date_dow_name'].head(10)"
   ]
  },
  {
   "cell_type": "code",
   "execution_count": 14,
   "metadata": {},
   "outputs": [
    {
     "name": "stdout",
     "output_type": "stream",
     "text": [
      "(108000, 32)\n",
      "   ride_id rideable_type          started_at            ended_at  \\\n",
      "0   3363.0  classic_bike 2021-01-02 13:56:30 2021-01-02 14:02:06   \n",
      "1  97357.0   docked_bike 2021-01-30 15:34:48 2021-01-30 17:05:41   \n",
      "2  46177.0  classic_bike 2021-01-15 07:11:24 2021-01-15 07:13:20   \n",
      "3  95158.0  classic_bike 2021-01-30 06:49:29 2021-01-30 06:54:30   \n",
      "4  41194.0  classic_bike 2021-01-13 17:42:09 2021-01-13 17:46:28   \n",
      "\n",
      "                 start_station_name  start_station_id  \\\n",
      "0                    15th & P St NW           31201.0   \n",
      "1                  Lincoln Memorial           31258.0   \n",
      "2                    11th & M St NW           31266.0   \n",
      "3                    12th & L St NW           31251.0   \n",
      "4  King St Metro North / Cameron St           31098.0   \n",
      "\n",
      "                            end_station_name  end_station_id  start_lat  \\\n",
      "0              20th & O St NW / Dupont South         31234.0  38.909868   \n",
      "1                              4th & M St SE         31652.0  38.888255   \n",
      "2          Convention Center / 7th & M St NW         31223.0  38.905578   \n",
      "3  7th & F St NW / National Portrait Gallery         31232.0  38.903819   \n",
      "4                       King St & Patrick St         31044.0  38.807040   \n",
      "\n",
      "   start_lng  ...  weekend  Season ride_count hour  Minute      time  \\\n",
      "0 -77.034421  ...        1  winter    7690469   13      56  13:56:30   \n",
      "1 -77.049437  ...        1  winter     534336   15      34  15:34:48   \n",
      "2 -77.027313  ...        0  winter    7690469    7      11  07:11:24   \n",
      "3 -77.028400  ...        1  winter    7690469    6      49  06:49:29   \n",
      "4 -77.059817  ...        0  winter    7690469   17      42  17:42:09   \n",
      "\n",
      "   distance_km  speed_kmh ride_duration  bike_availability_start  \n",
      "0     0.902689   9.671665      5.600000                     1094  \n",
      "1     4.405273   2.908304     90.883333                     1112  \n",
      "2     0.436726  13.553551      1.933333                      764  \n",
      "3     0.903830  10.809931      5.016667                      430  \n",
      "4     0.881854  12.257427      4.316667                       84  \n",
      "\n",
      "[5 rows x 32 columns]\n"
     ]
    }
   ],
   "source": [
    "print(Capital_bike_share.shape)  # Check if dataset has rows\n",
    "print(Capital_bike_share.head())  # Show first few rows"
   ]
  },
  {
   "cell_type": "code",
   "execution_count": 15,
   "metadata": {},
   "outputs": [
    {
     "name": "stdout",
     "output_type": "stream",
     "text": [
      "   ride_id rideable_type          started_at            ended_at  \\\n",
      "0   3363.0  classic_bike 2021-01-02 13:56:30 2021-01-02 14:02:06   \n",
      "1  97357.0   docked_bike 2021-01-30 15:34:48 2021-01-30 17:05:41   \n",
      "2  46177.0  classic_bike 2021-01-15 07:11:24 2021-01-15 07:13:20   \n",
      "3  95158.0  classic_bike 2021-01-30 06:49:29 2021-01-30 06:54:30   \n",
      "4  41194.0  classic_bike 2021-01-13 17:42:09 2021-01-13 17:46:28   \n",
      "\n",
      "                 start_station_name  start_station_id  \\\n",
      "0                    15th & P St NW           31201.0   \n",
      "1                  Lincoln Memorial           31258.0   \n",
      "2                    11th & M St NW           31266.0   \n",
      "3                    12th & L St NW           31251.0   \n",
      "4  King St Metro North / Cameron St           31098.0   \n",
      "\n",
      "                            end_station_name  end_station_id  start_lat  \\\n",
      "0              20th & O St NW / Dupont South         31234.0  38.909868   \n",
      "1                              4th & M St SE         31652.0  38.888255   \n",
      "2          Convention Center / 7th & M St NW         31223.0  38.905578   \n",
      "3  7th & F St NW / National Portrait Gallery         31232.0  38.903819   \n",
      "4                       King St & Patrick St         31044.0  38.807040   \n",
      "\n",
      "   start_lng  ...  hour  Minute      time distance_km  speed_kmh  \\\n",
      "0 -77.034421  ...    13      56  13:56:30    0.902689   9.671665   \n",
      "1 -77.049437  ...    15      34  15:34:48    4.405273   2.908304   \n",
      "2 -77.027313  ...     7      11  07:11:24    0.436726  13.553551   \n",
      "3 -77.028400  ...     6      49  06:49:29    0.903830  10.809931   \n",
      "4 -77.059817  ...    17      42  17:42:09    0.881854  12.257427   \n",
      "\n",
      "   ride_duration  bike_availability_start start_station_name_encoded  \\\n",
      "0       5.600000                     1094                         73   \n",
      "1      90.883333                     1112                        494   \n",
      "2       1.933333                      764                         19   \n",
      "3       5.016667                      430                         26   \n",
      "4       4.316667                       84                        471   \n",
      "\n",
      "  end_station_name_encoded  time_of_day_encoded  \n",
      "0                      131                    0  \n",
      "1                      190                    0  \n",
      "2                      329                    2  \n",
      "3                      210                    2  \n",
      "4                      465                    1  \n",
      "\n",
      "[5 rows x 35 columns]\n"
     ]
    }
   ],
   "source": [
    "from sklearn.preprocessing import LabelEncoder\n",
    "\n",
    "# Initialize encoder\n",
    "label_encoder = LabelEncoder()\n",
    "\n",
    "# Encode categorical columns\n",
    "Capital_bike_share['start_station_name_encoded'] = label_encoder.fit_transform(Capital_bike_share['start_station_name'])\n",
    "Capital_bike_share['end_station_name_encoded'] = label_encoder.fit_transform(Capital_bike_share['end_station_name'])\n",
    "Capital_bike_share['time_of_day_encoded'] = label_encoder.fit_transform(Capital_bike_share['time_of_day'])\n",
    "\n",
    "print(Capital_bike_share.head())  # Confirm the new encoded columns exist"
   ]
  },
  {
   "cell_type": "code",
   "execution_count": 16,
   "metadata": {},
   "outputs": [
    {
     "name": "stdout",
     "output_type": "stream",
     "text": [
      "(108000, 35)\n"
     ]
    }
   ],
   "source": [
    "print(Capital_bike_share.shape)  # Check if dataframe has rows\n",
    "if Capital_bike_share.shape[0] == 0:\n",
    "    raise ValueError(\"🚨 Error: Dataset is empty after filtering!\")"
   ]
  },
  {
   "cell_type": "code",
   "execution_count": 17,
   "metadata": {},
   "outputs": [],
   "source": [
    "# --- Step 2: Filter for electric bikes in Spring ---\n",
    "df_spring = Capital_bike_share[(Capital_bike_share['rideable_type'] == 'electric_bike') & (Capital_bike_share['Season'] == 'spring')]\n",
    "\n",
    "# --- Step 3: Encode categorical variables ---\n",
    "label_encoder = LabelEncoder()\n",
    "df_spring['start_station_name_encoded'] = label_encoder.fit_transform(df_spring['start_station_name'])\n",
    "df_spring['end_station_name_encoded'] = label_encoder.fit_transform(df_spring['end_station_name'])\n",
    "df_spring['time_of_day_encoded'] = label_encoder.fit_transform(df_spring['time_of_day'])\n",
    "\n",
    "# --- Step 4: Select Features and Target Variable ---\n",
    "X = df_spring[['bike_availability_start', 'distance_km', 'start_station_name_encoded', \n",
    "               'end_station_name_encoded', 'time_of_day_encoded', 'Date_dow_name']]\n",
    "y = df_spring['ride_count']  # Target: Predict ride demand"
   ]
  },
  {
   "cell_type": "code",
   "execution_count": 18,
   "metadata": {},
   "outputs": [
    {
     "data": {
      "text/plain": [
       "Index(['ride_id', 'rideable_type', 'started_at', 'ended_at',\n",
       "       'start_station_name', 'start_station_id', 'end_station_name',\n",
       "       'end_station_id', 'start_lat', 'start_lng', 'end_lat', 'end_lng',\n",
       "       'member_casual', 'time_of_day', 'duration_hours', 'Date_year',\n",
       "       'Date_day', 'Date_dow_name', 'Date_month_name', 'Date_month_no', 'day',\n",
       "       'dow', 'weekend', 'Season', 'ride_count', 'hour', 'Minute', 'time',\n",
       "       'distance_km', 'speed_kmh', 'ride_duration', 'bike_availability_start',\n",
       "       'start_station_name_encoded', 'end_station_name_encoded',\n",
       "       'time_of_day_encoded'],\n",
       "      dtype='object')"
      ]
     },
     "execution_count": 18,
     "metadata": {},
     "output_type": "execute_result"
    }
   ],
   "source": [
    "Capital_bike_share.columns"
   ]
  },
  {
   "cell_type": "code",
   "execution_count": 19,
   "metadata": {},
   "outputs": [
    {
     "name": "stdout",
     "output_type": "stream",
     "text": [
      "X shape: (108000, 5)\n",
      "y shape: (108000,)\n"
     ]
    }
   ],
   "source": [
    "X = Capital_bike_share[['bike_availability_start', 'distance_km', 'start_station_name_encoded', 'end_station_name_encoded', 'time_of_day_encoded']]\n",
    "y = Capital_bike_share['ride_count']\n",
    "\n",
    "print(\"X shape:\", X.shape)  # Should not be (0, n)\n",
    "print(\"y shape:\", y.shape)  # Should not be (0,)"
   ]
  },
  {
   "cell_type": "code",
   "execution_count": 20,
   "metadata": {},
   "outputs": [
    {
     "name": "stdout",
     "output_type": "stream",
     "text": [
      "df shape: (108000, 35)\n"
     ]
    }
   ],
   "source": [
    "print(f\"df shape: {Capital_bike_share.shape}\")"
   ]
  },
  {
   "cell_type": "code",
   "execution_count": 21,
   "metadata": {},
   "outputs": [],
   "source": [
    "if Capital_bike_share.shape[0] == 0:\n",
    "    raise ValueError(\"🚨 Error: DataFrame is empty after filtering. Check data preprocessing!\")"
   ]
  },
  {
   "cell_type": "code",
   "execution_count": 22,
   "metadata": {},
   "outputs": [
    {
     "name": "stdout",
     "output_type": "stream",
     "text": [
      "X_train shape: (86400, 5), X_test shape: (21600, 5)\n"
     ]
    }
   ],
   "source": [
    "from sklearn.model_selection import train_test_split\n",
    "\n",
    "X_train, X_test, y_train, y_test = train_test_split(X, y, test_size=0.2, random_state=42)\n",
    "\n",
    "print(f\"X_train shape: {X_train.shape}, X_test shape: {X_test.shape}\")"
   ]
  },
  {
   "cell_type": "code",
   "execution_count": 23,
   "metadata": {},
   "outputs": [],
   "source": [
    "if X_train.shape[0] > 0 and X_test.shape[0] > 0:\n",
    "    from sklearn.preprocessing import StandardScaler\n",
    "    scaler = StandardScaler()\n",
    "    X_train_scaled = scaler.fit_transform(X_train)\n",
    "    X_test_scaled = scaler.transform(X_test)\n",
    "else:\n",
    "    raise ValueError(\"🚨 Error: No data available after train-test split!\")"
   ]
  },
  {
   "cell_type": "code",
   "execution_count": null,
   "metadata": {},
   "outputs": [],
   "source": []
  },
  {
   "cell_type": "code",
   "execution_count": 24,
   "metadata": {},
   "outputs": [
    {
     "data": {
      "text/plain": [
       "Index(['ride_id', 'rideable_type', 'started_at', 'ended_at',\n",
       "       'start_station_name', 'start_station_id', 'end_station_name',\n",
       "       'end_station_id', 'start_lat', 'start_lng', 'end_lat', 'end_lng',\n",
       "       'member_casual', 'time_of_day', 'duration_hours', 'Date_year',\n",
       "       'Date_day', 'Date_dow_name', 'Date_month_name', 'Date_month_no', 'day',\n",
       "       'dow', 'weekend', 'Season', 'ride_count', 'hour', 'Minute', 'time',\n",
       "       'distance_km', 'speed_kmh', 'ride_duration', 'bike_availability_start',\n",
       "       'start_station_name_encoded', 'end_station_name_encoded',\n",
       "       'time_of_day_encoded'],\n",
       "      dtype='object')"
      ]
     },
     "execution_count": 24,
     "metadata": {},
     "output_type": "execute_result"
    }
   ],
   "source": [
    "Capital_bike_share.columns"
   ]
  },
  {
   "cell_type": "code",
   "execution_count": 25,
   "metadata": {},
   "outputs": [],
   "source": [
    "from sklearn.metrics import mean_absolute_error, mean_squared_error, r2_score"
   ]
  },
  {
   "cell_type": "code",
   "execution_count": 26,
   "metadata": {},
   "outputs": [
    {
     "data": {
      "text/plain": [
       "Index(['ride_id', 'rideable_type', 'started_at', 'ended_at',\n",
       "       'start_station_name', 'start_station_id', 'end_station_name',\n",
       "       'end_station_id', 'start_lat', 'start_lng', 'end_lat', 'end_lng',\n",
       "       'member_casual', 'time_of_day', 'duration_hours', 'Date_year',\n",
       "       'Date_day', 'Date_dow_name', 'Date_month_name', 'Date_month_no', 'day',\n",
       "       'dow', 'weekend', 'Season', 'ride_count', 'hour', 'Minute', 'time',\n",
       "       'distance_km', 'speed_kmh', 'ride_duration', 'bike_availability_start',\n",
       "       'start_station_name_encoded', 'end_station_name_encoded',\n",
       "       'time_of_day_encoded'],\n",
       "      dtype='object')"
      ]
     },
     "execution_count": 26,
     "metadata": {},
     "output_type": "execute_result"
    }
   ],
   "source": [
    "Capital_bike_share.columns"
   ]
  },
  {
   "cell_type": "code",
   "execution_count": 99,
   "metadata": {},
   "outputs": [
    {
     "name": "stdout",
     "output_type": "stream",
     "text": [
      "Mean Squared Error: 309.0983727072492\n",
      "R-squared: 0.010869509181392178\n"
     ]
    },
    {
     "data": {
      "image/png": "[encoded data removed]",
      "text/plain": [
       "<Figure size 800x500 with 1 Axes>"
      ]
     },
     "metadata": {},
     "output_type": "display_data"
    }
   ],
   "source": [
    "# --- Step 1: Filter only electric bike rides in Spring ---\n",
    "Capital_bike_share = Capital_bike_share[(Capital_bike_share['rideable_type'] == 'electric_bike') & (Capital_bike_share['Season'] == 'Spring')]\n",
    "\n",
    "# --- Step 2: Encode categorical station data ---\n",
    "label_encoder = LabelEncoder()\n",
    "Capital_bike_share['start_station_encoded'] = label_encoder.fit_transform(Capital_bike_share['start_station_name'])\n",
    "Capital_bike_share['end_station_encoded'] = label_encoder.fit_transform(Capital_bike_share['end_station_name'])\n",
    "\n",
    "# --- Step 3: Select features and target variable ---\n",
    "X = Capital_bike_share[['dow', 'bike_availability_start', 'start_station_encoded', 'end_station_encoded']]  # Features\n",
    "y = Capital_bike_share['ride_duration']  # Target variable (predicting ride duration)\n",
    "\n",
    "# --- Step 4: Split into training and testing sets ---\n",
    "X_train, X_test, y_train, y_test = train_test_split(X, y, test_size=0.2, random_state=42)\n",
    "\n",
    "# --- Step 5: Train the Linear Regression model ---\n",
    "model = LinearRegression()\n",
    "model.fit(X_train, y_train)\n",
    "\n",
    "# --- Step 6: Make predictions ---\n",
    "y_pred = model.predict(X_test)\n",
    "\n",
    "# --- Step 7: Evaluate model performance ---\n",
    "mse = mean_squared_error(y_test, y_pred)\n",
    "r2 = r2_score(y_test, y_pred)\n",
    "\n",
    "print(f\"Mean Squared Error: {mse}\")\n",
    "print(f\"R-squared: {r2}\")\n",
    "\n",
    "# --- Step 8: Visualize results ---\n",
    "plt.figure(figsize=(8, 5))\n",
    "sns.regplot(x=y_test, y=y_pred, scatter_kws={\"color\": \"blue\"}, line_kws={\"color\": \"red\"})\n",
    "plt.xlabel(\"Actual Ride Duration (day)\")\n",
    "plt.ylabel(\"Predicted Ride Duration (day)\")\n",
    "plt.title(\"Linear Regression: Actual vs Predicted Ride Duration (Electric Bikes in Spring)\")\n",
    "plt.show()"
   ]
  },
  {
   "cell_type": "code",
   "execution_count": null,
   "metadata": {},
   "outputs": [
    {
     "data": {
      "application/vnd.jupyter.widget-view+json": {
       "model_id": "c7adf1649aad4944a2e7eed952b29412",
       "version_major": 2,
       "version_minor": 0
      },
      "text/plain": [
       "IntSlider(value=3, description='Degree', max=10, min=1)"
      ]
     },
     "metadata": {},
     "output_type": "display_data"
    },
    {
     "data": {
      "application/vnd.jupyter.widget-view+json": {
       "model_id": "13095d75b73e48b788546ed4e1e8eda4",
       "version_major": 2,
       "version_minor": 0
      },
      "text/plain": [
       "Output()"
      ]
     },
     "metadata": {},
     "output_type": "display_data"
    }
   ],
   "source": [
    "import numpy as np\n",
    "import matplotlib.pyplot as plt\n",
    "import ipywidgets as widgets\n",
    "from IPython.display import display, clear_output\n",
    "\n",
    "# Generate some sample data\n",
    "np.random.seed(42)\n",
    "num_points = 20\n",
    "x=10*np.random.normal(0,1,num_points)\n",
    "y=10*(x**2)+np.random.normal(-400,400,num_points)\n",
    "\n",
    "# Function to fit and plot polynomial regression\n",
    "def plot_polynomial_regression(degree):\n",
    "    coefficients = np.polyfit(x, y, degree)\n",
    "    polynomial = np.poly1d(coefficients)\n",
    "    y_pred = polynomial(x)\n",
    "\n",
    "    plt.figure(figsize=(8, 6))\n",
    "    plt.scatter(x, y, label=\"Data\")\n",
    "    plt.plot(np.sort(x), y_pred[np.argsort(x)], color='red', label=\"Polynomial Regression (Degree {})\".format(degree))\n",
    "    plt.legend()\n",
    "    plt.xlabel(\"X\")\n",
    "    plt.ylabel(\"Y\")\n",
    "    plt.title(\"Polynomial Regression\")\n",
    "\n",
    "# Create an interactive widget for degree selection\n",
    "degree_slider = widgets.IntSlider(value=1, min=1, max=10, step=1, description='Degree')\n",
    "\n",
    "# Create a function to update the plot when the slider is moved\n",
    "def update_plot(change):\n",
    "    clear_output()\n",
    "    display(degree_slider, output)\n",
    "\n",
    "degree_slider.observe(update_plot, 'value')\n",
    "\n",
    "# Create an interactive output\n",
    "output = widgets.interactive_output(plot_polynomial_regression, {'degree': degree_slider})\n",
    "\n",
    "# Display the widgets and the output\n",
    "display(degree_slider, output)"
   ]
  },
  {
   "cell_type": "code",
   "execution_count": null,
   "metadata": {},
   "outputs": [
    {
     "data": {
      "application/vnd.jupyter.widget-view+json": {
       "model_id": "c7adf1649aad4944a2e7eed952b29412",
       "version_major": 2,
       "version_minor": 0
      },
      "text/plain": [
       "IntSlider(value=2, description='Degree', max=10, min=1)"
      ]
     },
     "metadata": {},
     "output_type": "display_data"
    },
    {
     "data": {
      "application/vnd.jupyter.widget-view+json": {
       "model_id": "13095d75b73e48b788546ed4e1e8eda4",
       "version_major": 2,
       "version_minor": 0
      },
      "text/plain": [
       "Output()"
      ]
     },
     "metadata": {},
     "output_type": "display_data"
    }
   ],
   "source": [
    "import numpy as np\n",
    "import pandas as pd\n",
    "import matplotlib.pyplot as plt\n",
    "import ipywidgets as widgets\n",
    "from IPython.display import display, clear_output\n",
    "from sklearn.preprocessing import PolynomialFeatures\n",
    "from sklearn.linear_model import LinearRegression\n",
    "\n",
    "\n",
    "df_spring_electric = Capital_bike_share[\n",
    "    (Capital_bike_share['rideable_type'] == 'electric_bike') & \n",
    "    (Capital_bike_share['Season'] == 'Spring')]\n",
    "\n",
    "# Group by hour and calculate average bike availability\n",
    "hourly_availability = df_spring_electric.groupby('day')['bike_availability_start'].mean().reset_index()\n",
    "\n",
    "# Independent (X) and Dependent (Y) Variables\n",
    "X = hourly_availability[['day']]\n",
    "y = hourly_availability['bike_availability_start']\n",
    "\n",
    "# Create an interactive polynomial regression plot\n",
    "def plot_polynomial_regression(degree):\n",
    "    poly = PolynomialFeatures(degree=degree)\n",
    "    X_poly = poly.fit_transform(X)\n",
    "\n",
    "    # Train polynomial regression model\n",
    "    model = LinearRegression()\n",
    "    model.fit(X_poly, y)\n",
    "    \n",
    "    # Predict values\n",
    "    y_pred = model.predict(X_poly)\n",
    "\n",
    "    # Plot the results\n",
    "    plt.figure(figsize=(8, 6))\n",
    "    plt.scatter(X, y, label=\"Actual Data\", color=\"blue\")\n",
    "    plt.plot(X, y_pred, color='red', label=f\"Polynomial Regression (Degree {degree})\")\n",
    "    \n",
    "    plt.legend()\n",
    "    plt.xlabel(\"Day of the Week\")\n",
    "    plt.ylabel(\"Avg. Bike Availability\")\n",
    "    plt.title(\"Electric Bike Availability Prediction (Spring)\")\n",
    "    #plt.xticks(range(0, 7,1))\n",
    "    plt.grid(True)\n",
    "    plt.show()\n",
    "\n",
    "# Create an interactive widget for degree selection\n",
    "degree_slider = widgets.IntSlider(value=2, min=1, max=10, step=1, description='Degree')\n",
    "\n",
    "# Output widget\n",
    "output = widgets.Output()\n",
    "\n",
    "# Function to update the plot dynamically\n",
    "def update_plot(change):\n",
    "    with output:\n",
    "        clear_output(wait=True)\n",
    "        plot_polynomial_regression(degree_slider.value)\n",
    "\n",
    "# Observe slider value changes\n",
    "degree_slider.observe(update_plot, names='value')\n",
    "\n",
    "# Display the interactive widgets\n",
    "display(degree_slider, output)\n",
    "\n",
    "# Initial plot\n",
    "update_plot(None)\n"
   ]
  },
  {
   "cell_type": "code",
   "execution_count": null,
   "metadata": {},
   "outputs": [
    {
     "data": {
      "application/vnd.jupyter.widget-view+json": {
       "model_id": "2b671adc03a84d0e90d412622f50c967",
       "version_major": 2,
       "version_minor": 0
      },
      "text/plain": [
       "IntSlider(value=2, description='Degree', max=10, min=1)"
      ]
     },
     "metadata": {},
     "output_type": "display_data"
    },
    {
     "data": {
      "application/vnd.jupyter.widget-view+json": {
       "model_id": "39f3a9e1b6d64d278bfc42f2c36ab5b6",
       "version_major": 2,
       "version_minor": 0
      },
      "text/plain": [
       "Output()"
      ]
     },
     "metadata": {},
     "output_type": "display_data"
    }
   ],
   "source": [
    "import numpy as np\n",
    "import pandas as pd\n",
    "import matplotlib.pyplot as plt\n",
    "import ipywidgets as widgets\n",
    "from IPython.display import display, clear_output\n",
    "from sklearn.preprocessing import PolynomialFeatures\n",
    "from sklearn.linear_model import LinearRegression\n",
    "from sklearn.metrics import mean_squared_error\n",
    "\n",
    "# Filter dataset for Spring and electric bikes\n",
    "df_spring_electric = Capital_bike_share[\n",
    "    (Capital_bike_share['rideable_type'] == 'electric_bike') & \n",
    "    (Capital_bike_share['Season'] == 'Spring')\n",
    "]\n",
    "\n",
    "# Group by day and calculate average bike availability\n",
    "hourly_availability = df_spring_electric.groupby('dow')['bike_availability_start'].mean().reset_index()\n",
    "\n",
    "# Independent (X) and Dependent (Y) Variables\n",
    "X = hourly_availability[['dow']]\n",
    "y = hourly_availability['bike_availability_start']\n",
    "\n",
    "# Create an interactive polynomial regression plot\n",
    "def plot_polynomial_regression(degree):\n",
    "    poly = PolynomialFeatures(degree=degree)\n",
    "    X_poly = poly.fit_transform(X)\n",
    "\n",
    "    # Train polynomial regression model\n",
    "    model = LinearRegression()\n",
    "    model.fit(X_poly, y)\n",
    "    \n",
    "    # Predict values\n",
    "    y_pred = model.predict(X_poly)\n",
    "\n",
    "    # Compute Metrics\n",
    "    mse = mean_squared_error(y, y_pred)\n",
    "    r2 = model.score(X_poly, y)\n",
    "\n",
    "    # Plot the results\n",
    "    plt.figure(figsize=(8, 6))\n",
    "    plt.scatter(X, y, label=\"Actual Data\", color=\"blue\")\n",
    "    plt.plot(X, y_pred, color='red', label=f\"Polynomial Regression (Degree {degree})\")\n",
    "    \n",
    "    # Display metrics on the plot\n",
    "    plt.text(0.05, 0.95, f'MSE: {mse:.2f}\\nR²: {r2:.3f}', transform=plt.gca().transAxes, fontsize=12,\n",
    "             bbox=dict(facecolor='white', alpha=0.7))\n",
    "\n",
    "    plt.legend()\n",
    "    plt.xlabel(\"Day of the Week\")\n",
    "    plt.ylabel(\"Avg. Bike Availability\")\n",
    "    plt.title(\"Electric Bike Availability Prediction (Spring)\")\n",
    "    plt.grid(True)\n",
    "    plt.show()\n",
    "\n",
    "# Create an interactive widget for degree selection\n",
    "degree_slider = widgets.IntSlider(value=2, min=1, max=10, step=1, description='Degree')\n",
    "\n",
    "# Output widget\n",
    "output = widgets.Output()\n",
    "\n",
    "# Function to update the plot dynamically\n",
    "def update_plot(change):\n",
    "    with output:\n",
    "        clear_output(wait=True)\n",
    "        plot_polynomial_regression(degree_slider.value)\n",
    "\n",
    "# Observe slider value changes\n",
    "degree_slider.observe(update_plot, names='value')\n",
    "\n",
    "# Display the interactive widgets\n",
    "display(degree_slider, output)\n",
    "\n",
    "# Initial plot\n",
    "update_plot(None)"
   ]
  },
  {
   "cell_type": "code",
   "execution_count": null,
   "metadata": {},
   "outputs": [],
   "source": []
  },
  {
   "cell_type": "code",
   "execution_count": null,
   "metadata": {},
   "outputs": [
    {
     "data": {
      "application/vnd.jupyter.widget-view+json": {
       "model_id": "20fd791ed4634b00bd2cdfb09424703e",
       "version_major": 2,
       "version_minor": 0
      },
      "text/plain": [
       "IntSlider(value=2, description='Degree', max=10, min=1)"
      ]
     },
     "metadata": {},
     "output_type": "display_data"
    },
    {
     "data": {
      "application/vnd.jupyter.widget-view+json": {
       "model_id": "d48f25da072641788258376369e53841",
       "version_major": 2,
       "version_minor": 0
      },
      "text/plain": [
       "Output()"
      ]
     },
     "metadata": {},
     "output_type": "display_data"
    }
   ],
   "source": [
    "import numpy as np\n",
    "import pandas as pd\n",
    "import matplotlib.pyplot as plt\n",
    "import ipywidgets as widgets\n",
    "from IPython.display import display, clear_output\n",
    "from sklearn.preprocessing import PolynomialFeatures\n",
    "from sklearn.linear_model import LinearRegression\n",
    "from sklearn.metrics import mean_squared_error\n",
    "\n",
    "# Filter dataset for Spring and electric bikes\n",
    "df_spring_electric = Capital_bike_share[\n",
    "    (Capital_bike_share['rideable_type'] == 'electric_bike') & \n",
    "    (Capital_bike_share['Season'] == 'Spring')\n",
    "]\n",
    "\n",
    "# Group by day and calculate average bike availability\n",
    "hourly_availability = df_spring_electric.groupby('day')['bike_availability_start'].mean().reset_index()\n",
    "\n",
    "# Independent (X) and Dependent (Y) Variables\n",
    "X = hourly_availability[['day']]\n",
    "y = hourly_availability['bike_availability_start']\n",
    "\n",
    "# Function to fit polynomial regression and calculate metrics\n",
    "def plot_polynomial_regression(degree):\n",
    "    poly = PolynomialFeatures(degree=degree)\n",
    "    X_poly = poly.fit_transform(X)\n",
    "\n",
    "    # Train polynomial regression model\n",
    "    model = LinearRegression()\n",
    "    model.fit(X_poly, y)\n",
    "    \n",
    "    # Predict values\n",
    "    y_pred = model.predict(X_poly)\n",
    "\n",
    "    # Compute Mean Squared Error and R-squared\n",
    "    mse = mean_squared_error(y, y_pred)\n",
    "    r2 = model.score(X_poly, y)\n",
    "\n",
    "    # Determine model fit quality\n",
    "    if r2 < 0.5:\n",
    "        fit_quality = \"Underfitting (Poor)\"\n",
    "        color = \"red\"\n",
    "    elif 0.5 <= r2 <= 0.95:\n",
    "        fit_quality = \"Good Fit ✅\"\n",
    "        color = \"green\"\n",
    "    else:\n",
    "        fit_quality = \"Overfitting (Too Complex)\"\n",
    "        color = \"orange\"\n",
    "\n",
    "    # Plot the results\n",
    "    plt.figure(figsize=(8, 6))\n",
    "    plt.scatter(X, y, label=\"Actual Data\", color=\"blue\")\n",
    "    plt.plot(X, y_pred, color='red', label=f\"Polynomial Regression (Degree {degree})\")\n",
    "\n",
    "    # Display MSE & R² on the plot\n",
    "    plt.text(0.05, 0.95, f'MSE: {mse:.2f}\\nR²: {r2:.3f}\\n{fit_quality}', \n",
    "             transform=plt.gca().transAxes, fontsize=12, color=color,\n",
    "             bbox=dict(facecolor='white', alpha=0.7))\n",
    "\n",
    "    plt.legend()\n",
    "    plt.xlabel(\"Day of the Week\")\n",
    "    plt.ylabel(\"Avg. Bike Availability\")\n",
    "    plt.title(\"Electric Bike Availability Prediction (Spring)\")\n",
    "    plt.grid(True)\n",
    "    plt.show()\n",
    "\n",
    "# Create an interactive widget for degree selection\n",
    "degree_slider = widgets.IntSlider(value=2, min=1, max=10, step=1, description='Degree')\n",
    "\n",
    "# Output widget\n",
    "output = widgets.Output()\n",
    "\n",
    "# Function to update the plot dynamically\n",
    "def update_plot(change):\n",
    "    with output:\n",
    "        clear_output(wait=True)\n",
    "        plot_polynomial_regression(degree_slider.value)\n",
    "\n",
    "# Observe slider value changes\n",
    "degree_slider.observe(update_plot, names='value')\n",
    "\n",
    "# Display the interactive widgets\n",
    "display(degree_slider, output)\n",
    "\n",
    "# Initial plot\n",
    "update_plot(None)\n"
   ]
  },
  {
   "cell_type": "code",
   "execution_count": 93,
   "metadata": {},
   "outputs": [
    {
     "data": {
      "text/plain": [
       "Index(['ride_id', 'rideable_type', 'started_at', 'ended_at',\n",
       "       'start_station_name', 'start_station_id', 'end_station_name',\n",
       "       'end_station_id', 'start_lat', 'start_lng', 'end_lat', 'end_lng',\n",
       "       'member_casual', 'time_of_day', 'duration_hours', 'Date_year',\n",
       "       'Date_day', 'Date_dow_name', 'Date_month_name', 'Date_month_no', 'day',\n",
       "       'dow', 'weekend', 'Season', 'ride_count', 'hour', 'Minute', 'time',\n",
       "       'distance_km', 'speed_kmh', 'ride_duration', 'bike_availability_start',\n",
       "       'start_station_name_encoded', 'end_station_name_encoded',\n",
       "       'time_of_day_encoded', 'start_station_encoded', 'end_station_encoded'],\n",
       "      dtype='object')"
      ]
     },
     "execution_count": 93,
     "metadata": {},
     "output_type": "execute_result"
    }
   ],
   "source": [
    "Capital_bike_share.columns"
   ]
  },
  {
   "cell_type": "code",
   "execution_count": 103,
   "metadata": {},
   "outputs": [
    {
     "data": {
      "application/vnd.jupyter.widget-view+json": {
       "model_id": "c649970828154481ace199336e49af87",
       "version_major": 2,
       "version_minor": 0
      },
      "text/plain": [
       "IntSlider(value=2, description='Degree', max=10, min=1)"
      ]
     },
     "metadata": {},
     "output_type": "display_data"
    },
    {
     "data": {
      "application/vnd.jupyter.widget-view+json": {
       "model_id": "cf83ef0eb66f46f6881591d6d49d9a4a",
       "version_major": 2,
       "version_minor": 0
      },
      "text/plain": [
       "Output()"
      ]
     },
     "metadata": {},
     "output_type": "display_data"
    }
   ],
   "source": [
    "import numpy as np\n",
    "import pandas as pd\n",
    "import matplotlib.pyplot as plt\n",
    "import ipywidgets as widgets\n",
    "from IPython.display import display, clear_output\n",
    "from sklearn.preprocessing import PolynomialFeatures\n",
    "from sklearn.linear_model import LinearRegression\n",
    "from sklearn.metrics import mean_squared_error\n",
    "\n",
    "# 📌 Load and filter dataset for Spring & electric bikes\n",
    "df_spring_electric = Capital_bike_share[\n",
    "    (Capital_bike_share['rideable_type'] == 'electric_bike') & \n",
    "    (Capital_bike_share['Season'] == 'Spring')\n",
    "]\n",
    "\n",
    "# 📌 Group by day and calculate average bike availability\n",
    "hourly_availability = df_spring_electric.groupby('duration_hours')['bike_availability_start'].mean().reset_index()\n",
    "\n",
    "# Independent (X) and Dependent (Y) Variables\n",
    "X = hourly_availability[['duration_hours']]\n",
    "y = hourly_availability['bike_availability_start']\n",
    "\n",
    "# 📌 Function to fit polynomial regression and calculate metrics\n",
    "def plot_polynomial_regression(degree):\n",
    "    poly = PolynomialFeatures(degree=degree)\n",
    "    X_poly = poly.fit_transform(X)\n",
    "\n",
    "    # Train polynomial regression model\n",
    "    model = LinearRegression()\n",
    "    model.fit(X_poly, y)\n",
    "    \n",
    "    # Predict values\n",
    "    y_pred = model.predict(X_poly)\n",
    "\n",
    "    # Compute Mean Squared Error and R-squared\n",
    "    mse = mean_squared_error(y, y_pred)\n",
    "    r2 = model.score(X_poly, y)\n",
    "\n",
    "    # Determine model fit quality\n",
    "    if r2 < 0.5:\n",
    "        fit_quality = \"Underfitting ❌\"\n",
    "        color = \"red\"\n",
    "    elif 0.5 <= r2 <= 0.95:\n",
    "        fit_quality = \"Good Fit ✅\"\n",
    "        color = \"green\"\n",
    "    else:\n",
    "        fit_quality = \"Overfitting ⚠️\"\n",
    "        color = \"orange\"\n",
    "\n",
    "    # 📊 Plot the results\n",
    "    plt.figure(figsize=(8, 6))\n",
    "    plt.scatter(X, y, label=\"Actual Data\", color=\"blue\")\n",
    "    plt.plot(X, y_pred, color='red', label=f\"Polynomial Regression (Degree {degree})\")\n",
    "\n",
    "    # Display MSE & R² on the plot\n",
    "    plt.text(0.05, 0.95, f'MSE: {mse:.2f}\\nR²: {r2:.3f}\\n{fit_quality}', \n",
    "             transform=plt.gca().transAxes, fontsize=12, color=color,\n",
    "             bbox=dict(facecolor='white', alpha=0.7))\n",
    "\n",
    "    plt.legend()\n",
    "    plt.xlabel(\"Day of the Week\")\n",
    "    plt.ylabel(\"Avg. Bike Availability\")\n",
    "    plt.title(\"Electric Bike Availability Prediction (Spring)\")\n",
    "    plt.grid(True)\n",
    "    plt.show()\n",
    "\n",
    "# 📌 Interactive widget for degree selection\n",
    "degree_slider = widgets.IntSlider(value=2, min=1, max=10, step=1, description='Degree')\n",
    "\n",
    "# Output widget\n",
    "output = widgets.Output()\n",
    "\n",
    "# 📌 Function to update the plot dynamically\n",
    "def update_plot(change):\n",
    "    with output:\n",
    "        clear_output(wait=True)\n",
    "        plot_polynomial_regression(degree_slider.value)\n",
    "\n",
    "# Observe slider value changes\n",
    "degree_slider.observe(update_plot, names='value')\n",
    "\n",
    "# Display the interactive widgets\n",
    "display(degree_slider, output)\n",
    "\n",
    "# Initial plot\n",
    "update_plot(None)\n"
   ]
  },
  {
   "cell_type": "code",
   "execution_count": null,
   "metadata": {},
   "outputs": [],
   "source": []
  }
 ],
 "metadata": {
  "kernelspec": {
   "display_name": "Exp",
   "language": "python",
   "name": "python3"
  },
  "language_info": {
   "codemirror_mode": {
    "name": "ipython",
    "version": 3
   },
   "file_extension": ".py",
   "mimetype": "text/x-python",
   "name": "python",
   "nbconvert_exporter": "python",
   "pygments_lexer": "ipython3",
   "version": "3.12.8"
  }
 },
 "nbformat": 4,
 "nbformat_minor": 2
}
