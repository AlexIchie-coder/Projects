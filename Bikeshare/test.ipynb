{
 "cells": [
  {
   "cell_type": "code",
   "execution_count": 44,
   "metadata": {},
   "outputs": [
    {
     "name": "stderr",
     "output_type": "stream",
     "text": [
      "/var/folders/5d/2f43d6ts64x5bt51z8p0j2dc0000gn/T/ipykernel_22288/2747284438.py:6: DtypeWarning: Columns (5,7) have mixed types. Specify dtype option on import or set low_memory=False.\n",
      "  dc_bike_share = pd.read_csv('CBS_2021-2023_Full.csv', sep=',')\n"
     ]
    }
   ],
   "source": [
    "import numpy as np\n",
    "import pandas as pd\n",
    "import matplotlib.pyplot as plt\n",
    "import seaborn as sns\n",
    "\n",
    "dc_bike_share = pd.read_csv('CBS_2021-2023_Full.csv', sep=',')"
   ]
  },
  {
   "cell_type": "code",
   "execution_count": 45,
   "metadata": {},
   "outputs": [
    {
     "data": {
      "text/plain": [
       "(10693997, 13)"
      ]
     },
     "execution_count": 45,
     "metadata": {},
     "output_type": "execute_result"
    }
   ],
   "source": [
    "dc_bike_share.shape"
   ]
  },
  {
   "cell_type": "code",
   "execution_count": 46,
   "metadata": {},
   "outputs": [],
   "source": [
    "dc_bike_share_new = dc_bike_share"
   ]
  },
  {
   "cell_type": "code",
   "execution_count": 47,
   "metadata": {},
   "outputs": [
    {
     "data": {
      "text/plain": [
       "(10693997, 13)"
      ]
     },
     "execution_count": 47,
     "metadata": {},
     "output_type": "execute_result"
    }
   ],
   "source": [
    "dc_bike_share_new.shape"
   ]
  },
  {
   "cell_type": "code",
   "execution_count": null,
   "metadata": {},
   "outputs": [],
   "source": [
    "#find missing null values\n",
    "dc_bike_share_new.isnull().sum()\n",
    "\n",
    "#drop missing values\n",
    "dc_bike_share_new = dc_bike_share_new.dropna()"
   ]
  },
  {
   "cell_type": "code",
   "execution_count": 49,
   "metadata": {},
   "outputs": [
    {
     "name": "stdout",
     "output_type": "stream",
     "text": [
      "Unique values before conversion:\n",
      " ride_id               9572692\n",
      "rideable_type               3\n",
      "started_at            8711772\n",
      "ended_at              8701740\n",
      "start_station_name        858\n",
      "start_station_id         1883\n",
      "end_station_name          864\n",
      "end_station_id           1899\n",
      "start_lat              508855\n",
      "start_lng              552596\n",
      "end_lat                144744\n",
      "end_lng                152212\n",
      "member_casual               2\n",
      "dtype: int64 \n",
      "\n"
     ]
    }
   ],
   "source": [
    "unique_values_before = dc_bike_share_new.nunique()\n",
    "print(\"Unique values before conversion:\\n\", unique_values_before, '\\n')"
   ]
  },
  {
   "cell_type": "code",
   "execution_count": 50,
   "metadata": {},
   "outputs": [
    {
     "name": "stdout",
     "output_type": "stream",
     "text": [
      "Memory Usage before Converting dtypes:\n",
      " Index                  76581536\n",
      "ride_id               622224980\n",
      "rideable_type         584747763\n",
      "started_at            650943056\n",
      "ended_at              650943056\n",
      "start_station_name    689490539\n",
      "start_station_id      307594294\n",
      "end_station_name      688658082\n",
      "end_station_id        307594294\n",
      "start_lat              76581536\n",
      "start_lng              76581536\n",
      "end_lat                76581536\n",
      "end_lng                76581536\n",
      "member_casual         526498060\n",
      "dtype: int64 \n",
      "\n"
     ]
    }
   ],
   "source": [
    "# Check Memory usage before converting\n",
    "memory_usage = dc_bike_share_new.memory_usage(deep=True)\n",
    "print(\"Memory Usage before Converting dtypes:\\n\", memory_usage, '\\n')"
   ]
  },
  {
   "cell_type": "code",
   "execution_count": 51,
   "metadata": {},
   "outputs": [
    {
     "name": "stderr",
     "output_type": "stream",
     "text": [
      "/var/folders/5d/2f43d6ts64x5bt51z8p0j2dc0000gn/T/ipykernel_22288/605120237.py:5: SettingWithCopyWarning: \n",
      "A value is trying to be set on a copy of a slice from a DataFrame.\n",
      "Try using .loc[row_indexer,col_indexer] = value instead\n",
      "\n",
      "See the caveats in the documentation: https://pandas.pydata.org/pandas-docs/stable/user_guide/indexing.html#returning-a-view-versus-a-copy\n",
      "  dc_bike_share_new[\"rideable_type\"] = dc_bike_share_new[\"rideable_type\"].astype(\"category\")\n",
      "/var/folders/5d/2f43d6ts64x5bt51z8p0j2dc0000gn/T/ipykernel_22288/605120237.py:6: SettingWithCopyWarning: \n",
      "A value is trying to be set on a copy of a slice from a DataFrame.\n",
      "Try using .loc[row_indexer,col_indexer] = value instead\n",
      "\n",
      "See the caveats in the documentation: https://pandas.pydata.org/pandas-docs/stable/user_guide/indexing.html#returning-a-view-versus-a-copy\n",
      "  dc_bike_share_new[\"start_station_name\"] = dc_bike_share_new[\"start_station_name\"].astype(\"category\")\n",
      "/var/folders/5d/2f43d6ts64x5bt51z8p0j2dc0000gn/T/ipykernel_22288/605120237.py:7: SettingWithCopyWarning: \n",
      "A value is trying to be set on a copy of a slice from a DataFrame.\n",
      "Try using .loc[row_indexer,col_indexer] = value instead\n",
      "\n",
      "See the caveats in the documentation: https://pandas.pydata.org/pandas-docs/stable/user_guide/indexing.html#returning-a-view-versus-a-copy\n",
      "  dc_bike_share_new[\"end_station_name\"] = dc_bike_share_new[\"end_station_name\"].astype(\"category\")\n",
      "/var/folders/5d/2f43d6ts64x5bt51z8p0j2dc0000gn/T/ipykernel_22288/605120237.py:8: SettingWithCopyWarning: \n",
      "A value is trying to be set on a copy of a slice from a DataFrame.\n",
      "Try using .loc[row_indexer,col_indexer] = value instead\n",
      "\n",
      "See the caveats in the documentation: https://pandas.pydata.org/pandas-docs/stable/user_guide/indexing.html#returning-a-view-versus-a-copy\n",
      "  dc_bike_share_new[\"member_casual\"] = dc_bike_share_new[\"member_casual\"].astype(\"category\")\n",
      "/var/folders/5d/2f43d6ts64x5bt51z8p0j2dc0000gn/T/ipykernel_22288/605120237.py:11: SettingWithCopyWarning: \n",
      "A value is trying to be set on a copy of a slice from a DataFrame.\n",
      "Try using .loc[row_indexer,col_indexer] = value instead\n",
      "\n",
      "See the caveats in the documentation: https://pandas.pydata.org/pandas-docs/stable/user_guide/indexing.html#returning-a-view-versus-a-copy\n",
      "  dc_bike_share_new['started_at'] = pd.to_datetime(dc_bike_share_new['started_at'])\n",
      "/var/folders/5d/2f43d6ts64x5bt51z8p0j2dc0000gn/T/ipykernel_22288/605120237.py:12: SettingWithCopyWarning: \n",
      "A value is trying to be set on a copy of a slice from a DataFrame.\n",
      "Try using .loc[row_indexer,col_indexer] = value instead\n",
      "\n",
      "See the caveats in the documentation: https://pandas.pydata.org/pandas-docs/stable/user_guide/indexing.html#returning-a-view-versus-a-copy\n",
      "  dc_bike_share_new['ended_at'] = pd.to_datetime(dc_bike_share_new['ended_at'])\n",
      "/var/folders/5d/2f43d6ts64x5bt51z8p0j2dc0000gn/T/ipykernel_22288/605120237.py:16: SettingWithCopyWarning: \n",
      "A value is trying to be set on a copy of a slice from a DataFrame.\n",
      "Try using .loc[row_indexer,col_indexer] = value instead\n",
      "\n",
      "See the caveats in the documentation: https://pandas.pydata.org/pandas-docs/stable/user_guide/indexing.html#returning-a-view-versus-a-copy\n",
      "  dc_bike_share_new['ride_id'] = pd.Series(range(1, len(dc_bike_share_new) + 1), dtype='uint32')\n"
     ]
    }
   ],
   "source": [
    "# Copy the dataframe\n",
    "\n",
    "\n",
    "# Convert categorical columns to category type for memory efficiency\n",
    "dc_bike_share_new[\"rideable_type\"] = dc_bike_share_new[\"rideable_type\"].astype(\"category\")\n",
    "dc_bike_share_new[\"start_station_name\"] = dc_bike_share_new[\"start_station_name\"].astype(\"category\")\n",
    "dc_bike_share_new[\"end_station_name\"] = dc_bike_share_new[\"end_station_name\"].astype(\"category\")\n",
    "dc_bike_share_new[\"member_casual\"] = dc_bike_share_new[\"member_casual\"].astype(\"category\")\n",
    "\n",
    "# Convert started_at and ended_at to datetime for memory efficiency\n",
    "dc_bike_share_new['started_at'] = pd.to_datetime(dc_bike_share_new['started_at'])\n",
    "dc_bike_share_new['ended_at'] = pd.to_datetime(dc_bike_share_new['ended_at'])\n",
    "\n",
    "# Regenerate the entire ride_id column with sequential integers and convert it\n",
    "# to a memory-efficient data type (uint32)\n",
    "dc_bike_share_new['ride_id'] = pd.Series(range(1, len(dc_bike_share_new) + 1), dtype='uint32')"
   ]
  },
  {
   "cell_type": "code",
   "execution_count": 52,
   "metadata": {},
   "outputs": [
    {
     "name": "stdout",
     "output_type": "stream",
     "text": [
      "<class 'pandas.core.frame.DataFrame'>\n",
      "Index: 9572692 entries, 0 to 10693995\n",
      "Data columns (total 13 columns):\n",
      " #   Column              Dtype         \n",
      "---  ------              -----         \n",
      " 0   ride_id             float64       \n",
      " 1   rideable_type       category      \n",
      " 2   started_at          datetime64[ns]\n",
      " 3   ended_at            datetime64[ns]\n",
      " 4   start_station_name  category      \n",
      " 5   start_station_id    object        \n",
      " 6   end_station_name    category      \n",
      " 7   end_station_id      object        \n",
      " 8   start_lat           float64       \n",
      " 9   start_lng           float64       \n",
      " 10  end_lat             float64       \n",
      " 11  end_lng             float64       \n",
      " 12  member_casual       category      \n",
      "dtypes: category(4), datetime64[ns](2), float64(5), object(2)\n",
      "memory usage: 785.2+ MB\n",
      "Info of the DataFrame after conversion:\n",
      " None \n",
      "\n"
     ]
    }
   ],
   "source": [
    "# Check info and dtypes after conversion\n",
    "info_after = dc_bike_share_new.info()\n",
    "print(\"Info of the DataFrame after conversion:\\n\", info_after, '\\n')"
   ]
  },
  {
   "cell_type": "code",
   "execution_count": 53,
   "metadata": {},
   "outputs": [
    {
     "name": "stdout",
     "output_type": "stream",
     "text": [
      "Unique values after conversion:\n",
      " ride_id               8668490\n",
      "rideable_type               3\n",
      "started_at            8711772\n",
      "ended_at              8701740\n",
      "start_station_name        858\n",
      "start_station_id         1883\n",
      "end_station_name          864\n",
      "end_station_id           1899\n",
      "start_lat              508855\n",
      "start_lng              552596\n",
      "end_lat                144744\n",
      "end_lng                152212\n",
      "member_casual               2\n",
      "dtype: int64 \n",
      "\n"
     ]
    }
   ],
   "source": [
    "# Check unique values after conversion\n",
    "unique_values_after = dc_bike_share_new.nunique()\n",
    "print(\"Unique values after conversion:\\n\", unique_values_after, '\\n')"
   ]
  },
  {
   "cell_type": "code",
   "execution_count": 54,
   "metadata": {},
   "outputs": [
    {
     "name": "stdout",
     "output_type": "stream",
     "text": [
      "Memory Usage after Converting dtype:\n",
      " Index                  76581536\n",
      "ride_id                76581536\n",
      "rideable_type           9572983\n",
      "started_at             76581536\n",
      "ended_at               76581536\n",
      "start_station_name     19242489\n",
      "start_station_id      307594294\n",
      "end_station_name       19242922\n",
      "end_station_id        307594294\n",
      "start_lat              76581536\n",
      "start_lng              76581536\n",
      "end_lat                76581536\n",
      "end_lng                76581536\n",
      "member_casual           9572910\n",
      "dtype: int64 \n",
      "\n"
     ]
    }
   ],
   "source": [
    "# Check memory usage after all conversions\n",
    "print(\"Memory Usage after Converting dtype:\\n\", dc_bike_share_new.memory_usage(deep=True), '\\n')"
   ]
  },
  {
   "cell_type": "code",
   "execution_count": 74,
   "metadata": {},
   "outputs": [
    {
     "data": {
      "text/html": [
       "<div>\n",
       "<style scoped>\n",
       "    .dataframe tbody tr th:only-of-type {\n",
       "        vertical-align: middle;\n",
       "    }\n",
       "\n",
       "    .dataframe tbody tr th {\n",
       "        vertical-align: top;\n",
       "    }\n",
       "\n",
       "    .dataframe thead th {\n",
       "        text-align: right;\n",
       "    }\n",
       "</style>\n",
       "<table border=\"1\" class=\"dataframe\">\n",
       "  <thead>\n",
       "    <tr style=\"text-align: right;\">\n",
       "      <th></th>\n",
       "      <th>ride_id</th>\n",
       "      <th>rideable_type</th>\n",
       "      <th>started_at</th>\n",
       "      <th>ended_at</th>\n",
       "      <th>start_station_name</th>\n",
       "      <th>start_station_id</th>\n",
       "      <th>end_station_name</th>\n",
       "      <th>end_station_id</th>\n",
       "      <th>start_lat</th>\n",
       "      <th>start_lng</th>\n",
       "      <th>...</th>\n",
       "      <th>Date_month_name</th>\n",
       "      <th>Date_month_no</th>\n",
       "      <th>day</th>\n",
       "      <th>dow</th>\n",
       "      <th>weekend</th>\n",
       "      <th>Season</th>\n",
       "      <th>ride_count</th>\n",
       "      <th>hour</th>\n",
       "      <th>Minute</th>\n",
       "      <th>time</th>\n",
       "    </tr>\n",
       "  </thead>\n",
       "  <tbody>\n",
       "    <tr>\n",
       "      <th>0</th>\n",
       "      <td>1.0</td>\n",
       "      <td>classic_bike</td>\n",
       "      <td>2021-01-01 00:08:33</td>\n",
       "      <td>2021-01-01 00:33:53</td>\n",
       "      <td>Maine Ave &amp; 9th St SW</td>\n",
       "      <td>31646.0</td>\n",
       "      <td>Rosslyn Metro / Wilson Blvd &amp; Ft Myer Dr</td>\n",
       "      <td>31015.0</td>\n",
       "      <td>38.880440</td>\n",
       "      <td>-77.025236</td>\n",
       "      <td>...</td>\n",
       "      <td>January</td>\n",
       "      <td>1</td>\n",
       "      <td>1</td>\n",
       "      <td>4</td>\n",
       "      <td>0</td>\n",
       "      <td>winter</td>\n",
       "      <td>7690469</td>\n",
       "      <td>0</td>\n",
       "      <td>8</td>\n",
       "      <td>00:08:33</td>\n",
       "    </tr>\n",
       "    <tr>\n",
       "      <th>2</th>\n",
       "      <td>3.0</td>\n",
       "      <td>electric_bike</td>\n",
       "      <td>2021-01-01 00:14:32</td>\n",
       "      <td>2021-01-01 00:28:45</td>\n",
       "      <td>17th &amp; Corcoran St NW</td>\n",
       "      <td>31214.0</td>\n",
       "      <td>14th &amp; Belmont St NW</td>\n",
       "      <td>31119.0</td>\n",
       "      <td>38.912138</td>\n",
       "      <td>-77.038568</td>\n",
       "      <td>...</td>\n",
       "      <td>January</td>\n",
       "      <td>1</td>\n",
       "      <td>1</td>\n",
       "      <td>4</td>\n",
       "      <td>0</td>\n",
       "      <td>winter</td>\n",
       "      <td>1347887</td>\n",
       "      <td>0</td>\n",
       "      <td>14</td>\n",
       "      <td>00:14:32</td>\n",
       "    </tr>\n",
       "    <tr>\n",
       "      <th>3</th>\n",
       "      <td>4.0</td>\n",
       "      <td>classic_bike</td>\n",
       "      <td>2021-01-01 00:15:45</td>\n",
       "      <td>2021-01-01 00:21:20</td>\n",
       "      <td>Wilson Blvd. &amp; N. Vermont St.</td>\n",
       "      <td>31926.0</td>\n",
       "      <td>Wilson Blvd. &amp; N. Vermont St.</td>\n",
       "      <td>31926.0</td>\n",
       "      <td>38.879477</td>\n",
       "      <td>-77.114563</td>\n",
       "      <td>...</td>\n",
       "      <td>January</td>\n",
       "      <td>1</td>\n",
       "      <td>1</td>\n",
       "      <td>4</td>\n",
       "      <td>0</td>\n",
       "      <td>winter</td>\n",
       "      <td>7690469</td>\n",
       "      <td>0</td>\n",
       "      <td>15</td>\n",
       "      <td>00:15:45</td>\n",
       "    </tr>\n",
       "    <tr>\n",
       "      <th>4</th>\n",
       "      <td>5.0</td>\n",
       "      <td>classic_bike</td>\n",
       "      <td>2021-01-01 00:17:46</td>\n",
       "      <td>2021-01-01 00:21:00</td>\n",
       "      <td>11th &amp; Park Rd NW</td>\n",
       "      <td>31651.0</td>\n",
       "      <td>14th &amp; Newton St NW</td>\n",
       "      <td>31649.0</td>\n",
       "      <td>38.931322</td>\n",
       "      <td>-77.028247</td>\n",
       "      <td>...</td>\n",
       "      <td>January</td>\n",
       "      <td>1</td>\n",
       "      <td>1</td>\n",
       "      <td>4</td>\n",
       "      <td>0</td>\n",
       "      <td>winter</td>\n",
       "      <td>7690469</td>\n",
       "      <td>0</td>\n",
       "      <td>17</td>\n",
       "      <td>00:17:46</td>\n",
       "    </tr>\n",
       "    <tr>\n",
       "      <th>6</th>\n",
       "      <td>7.0</td>\n",
       "      <td>classic_bike</td>\n",
       "      <td>2021-01-01 00:19:06</td>\n",
       "      <td>2021-01-01 00:36:28</td>\n",
       "      <td>Bladensburg Rd &amp; Benning Rd NE</td>\n",
       "      <td>31617.0</td>\n",
       "      <td>Good Hope Rd &amp; MLK Ave SE</td>\n",
       "      <td>31802.0</td>\n",
       "      <td>38.900413</td>\n",
       "      <td>-76.982872</td>\n",
       "      <td>...</td>\n",
       "      <td>January</td>\n",
       "      <td>1</td>\n",
       "      <td>1</td>\n",
       "      <td>4</td>\n",
       "      <td>0</td>\n",
       "      <td>winter</td>\n",
       "      <td>7690469</td>\n",
       "      <td>0</td>\n",
       "      <td>19</td>\n",
       "      <td>00:19:06</td>\n",
       "    </tr>\n",
       "    <tr>\n",
       "      <th>...</th>\n",
       "      <td>...</td>\n",
       "      <td>...</td>\n",
       "      <td>...</td>\n",
       "      <td>...</td>\n",
       "      <td>...</td>\n",
       "      <td>...</td>\n",
       "      <td>...</td>\n",
       "      <td>...</td>\n",
       "      <td>...</td>\n",
       "      <td>...</td>\n",
       "      <td>...</td>\n",
       "      <td>...</td>\n",
       "      <td>...</td>\n",
       "      <td>...</td>\n",
       "      <td>...</td>\n",
       "      <td>...</td>\n",
       "      <td>...</td>\n",
       "      <td>...</td>\n",
       "      <td>...</td>\n",
       "      <td>...</td>\n",
       "      <td>...</td>\n",
       "    </tr>\n",
       "    <tr>\n",
       "      <th>10693991</th>\n",
       "      <td>NaN</td>\n",
       "      <td>classic_bike</td>\n",
       "      <td>2023-12-31 23:57:56</td>\n",
       "      <td>2024-01-01 00:02:25</td>\n",
       "      <td>Eastern Market Metro / Pennsylvania Ave &amp; 8th ...</td>\n",
       "      <td>31613.0</td>\n",
       "      <td>Lincoln Park / 13th &amp; East Capitol St NE</td>\n",
       "      <td>31619.0</td>\n",
       "      <td>38.884095</td>\n",
       "      <td>-76.995234</td>\n",
       "      <td>...</td>\n",
       "      <td>December</td>\n",
       "      <td>12</td>\n",
       "      <td>31</td>\n",
       "      <td>6</td>\n",
       "      <td>1</td>\n",
       "      <td>winter</td>\n",
       "      <td>7690469</td>\n",
       "      <td>23</td>\n",
       "      <td>57</td>\n",
       "      <td>23:57:56</td>\n",
       "    </tr>\n",
       "    <tr>\n",
       "      <th>10693992</th>\n",
       "      <td>NaN</td>\n",
       "      <td>classic_bike</td>\n",
       "      <td>2023-12-31 23:58:06</td>\n",
       "      <td>2024-01-01 00:12:29</td>\n",
       "      <td>King St &amp; Peyton St</td>\n",
       "      <td>31955.0</td>\n",
       "      <td>Market Square / King St &amp; Royal St</td>\n",
       "      <td>31042.0</td>\n",
       "      <td>38.806002</td>\n",
       "      <td>-77.055911</td>\n",
       "      <td>...</td>\n",
       "      <td>December</td>\n",
       "      <td>12</td>\n",
       "      <td>31</td>\n",
       "      <td>6</td>\n",
       "      <td>1</td>\n",
       "      <td>winter</td>\n",
       "      <td>7690469</td>\n",
       "      <td>23</td>\n",
       "      <td>58</td>\n",
       "      <td>23:58:06</td>\n",
       "    </tr>\n",
       "    <tr>\n",
       "      <th>10693993</th>\n",
       "      <td>NaN</td>\n",
       "      <td>electric_bike</td>\n",
       "      <td>2023-12-31 23:58:27</td>\n",
       "      <td>2024-01-01 00:02:28</td>\n",
       "      <td>Eastern Market Metro / Pennsylvania Ave &amp; 8th ...</td>\n",
       "      <td>31613.0</td>\n",
       "      <td>Lincoln Park / 13th &amp; East Capitol St NE</td>\n",
       "      <td>31619.0</td>\n",
       "      <td>38.884185</td>\n",
       "      <td>-76.995396</td>\n",
       "      <td>...</td>\n",
       "      <td>December</td>\n",
       "      <td>12</td>\n",
       "      <td>31</td>\n",
       "      <td>6</td>\n",
       "      <td>1</td>\n",
       "      <td>winter</td>\n",
       "      <td>1347887</td>\n",
       "      <td>23</td>\n",
       "      <td>58</td>\n",
       "      <td>23:58:27</td>\n",
       "    </tr>\n",
       "    <tr>\n",
       "      <th>10693994</th>\n",
       "      <td>NaN</td>\n",
       "      <td>classic_bike</td>\n",
       "      <td>2023-12-31 23:59:27</td>\n",
       "      <td>2024-01-01 02:09:11</td>\n",
       "      <td>22nd &amp; P ST NW</td>\n",
       "      <td>31285.0</td>\n",
       "      <td>23rd &amp; E St NW</td>\n",
       "      <td>31260.0</td>\n",
       "      <td>38.909394</td>\n",
       "      <td>-77.048728</td>\n",
       "      <td>...</td>\n",
       "      <td>December</td>\n",
       "      <td>12</td>\n",
       "      <td>31</td>\n",
       "      <td>6</td>\n",
       "      <td>1</td>\n",
       "      <td>winter</td>\n",
       "      <td>7690469</td>\n",
       "      <td>23</td>\n",
       "      <td>59</td>\n",
       "      <td>23:59:27</td>\n",
       "    </tr>\n",
       "    <tr>\n",
       "      <th>10693995</th>\n",
       "      <td>NaN</td>\n",
       "      <td>classic_bike</td>\n",
       "      <td>2023-12-31 23:59:30</td>\n",
       "      <td>2024-01-01 02:02:07</td>\n",
       "      <td>22nd &amp; P ST NW</td>\n",
       "      <td>31285.0</td>\n",
       "      <td>22nd &amp; P ST NW</td>\n",
       "      <td>31285.0</td>\n",
       "      <td>38.909394</td>\n",
       "      <td>-77.048728</td>\n",
       "      <td>...</td>\n",
       "      <td>December</td>\n",
       "      <td>12</td>\n",
       "      <td>31</td>\n",
       "      <td>6</td>\n",
       "      <td>1</td>\n",
       "      <td>winter</td>\n",
       "      <td>7690469</td>\n",
       "      <td>23</td>\n",
       "      <td>59</td>\n",
       "      <td>23:59:30</td>\n",
       "    </tr>\n",
       "  </tbody>\n",
       "</table>\n",
       "<p>9572692 rows × 28 columns</p>\n",
       "</div>"
      ],
      "text/plain": [
       "          ride_id  rideable_type          started_at            ended_at  \\\n",
       "0             1.0   classic_bike 2021-01-01 00:08:33 2021-01-01 00:33:53   \n",
       "2             3.0  electric_bike 2021-01-01 00:14:32 2021-01-01 00:28:45   \n",
       "3             4.0   classic_bike 2021-01-01 00:15:45 2021-01-01 00:21:20   \n",
       "4             5.0   classic_bike 2021-01-01 00:17:46 2021-01-01 00:21:00   \n",
       "6             7.0   classic_bike 2021-01-01 00:19:06 2021-01-01 00:36:28   \n",
       "...           ...            ...                 ...                 ...   \n",
       "10693991      NaN   classic_bike 2023-12-31 23:57:56 2024-01-01 00:02:25   \n",
       "10693992      NaN   classic_bike 2023-12-31 23:58:06 2024-01-01 00:12:29   \n",
       "10693993      NaN  electric_bike 2023-12-31 23:58:27 2024-01-01 00:02:28   \n",
       "10693994      NaN   classic_bike 2023-12-31 23:59:27 2024-01-01 02:09:11   \n",
       "10693995      NaN   classic_bike 2023-12-31 23:59:30 2024-01-01 02:02:07   \n",
       "\n",
       "                                         start_station_name start_station_id  \\\n",
       "0                                     Maine Ave & 9th St SW          31646.0   \n",
       "2                                     17th & Corcoran St NW          31214.0   \n",
       "3                             Wilson Blvd. & N. Vermont St.          31926.0   \n",
       "4                                         11th & Park Rd NW          31651.0   \n",
       "6                            Bladensburg Rd & Benning Rd NE          31617.0   \n",
       "...                                                     ...              ...   \n",
       "10693991  Eastern Market Metro / Pennsylvania Ave & 8th ...          31613.0   \n",
       "10693992                                King St & Peyton St          31955.0   \n",
       "10693993  Eastern Market Metro / Pennsylvania Ave & 8th ...          31613.0   \n",
       "10693994                                     22nd & P ST NW          31285.0   \n",
       "10693995                                     22nd & P ST NW          31285.0   \n",
       "\n",
       "                                   end_station_name end_station_id  start_lat  \\\n",
       "0          Rosslyn Metro / Wilson Blvd & Ft Myer Dr        31015.0  38.880440   \n",
       "2                              14th & Belmont St NW        31119.0  38.912138   \n",
       "3                     Wilson Blvd. & N. Vermont St.        31926.0  38.879477   \n",
       "4                               14th & Newton St NW        31649.0  38.931322   \n",
       "6                         Good Hope Rd & MLK Ave SE        31802.0  38.900413   \n",
       "...                                             ...            ...        ...   \n",
       "10693991  Lincoln Park / 13th & East Capitol St NE         31619.0  38.884095   \n",
       "10693992         Market Square / King St & Royal St        31042.0  38.806002   \n",
       "10693993  Lincoln Park / 13th & East Capitol St NE         31619.0  38.884185   \n",
       "10693994                            23rd & E St NW         31260.0  38.909394   \n",
       "10693995                             22nd & P ST NW        31285.0  38.909394   \n",
       "\n",
       "          start_lng  ...  Date_month_name  Date_month_no day dow  weekend  \\\n",
       "0        -77.025236  ...          January              1   1   4        0   \n",
       "2        -77.038568  ...          January              1   1   4        0   \n",
       "3        -77.114563  ...          January              1   1   4        0   \n",
       "4        -77.028247  ...          January              1   1   4        0   \n",
       "6        -76.982872  ...          January              1   1   4        0   \n",
       "...             ...  ...              ...            ...  ..  ..      ...   \n",
       "10693991 -76.995234  ...         December             12  31   6        1   \n",
       "10693992 -77.055911  ...         December             12  31   6        1   \n",
       "10693993 -76.995396  ...         December             12  31   6        1   \n",
       "10693994 -77.048728  ...         December             12  31   6        1   \n",
       "10693995 -77.048728  ...         December             12  31   6        1   \n",
       "\n",
       "          Season  ride_count hour Minute      time  \n",
       "0         winter     7690469    0      8  00:08:33  \n",
       "2         winter     1347887    0     14  00:14:32  \n",
       "3         winter     7690469    0     15  00:15:45  \n",
       "4         winter     7690469    0     17  00:17:46  \n",
       "6         winter     7690469    0     19  00:19:06  \n",
       "...          ...         ...  ...    ...       ...  \n",
       "10693991  winter     7690469   23     57  23:57:56  \n",
       "10693992  winter     7690469   23     58  23:58:06  \n",
       "10693993  winter     1347887   23     58  23:58:27  \n",
       "10693994  winter     7690469   23     59  23:59:27  \n",
       "10693995  winter     7690469   23     59  23:59:30  \n",
       "\n",
       "[9572692 rows x 28 columns]"
      ]
     },
     "execution_count": 74,
     "metadata": {},
     "output_type": "execute_result"
    }
   ],
   "source": [
    "dc_bike_share_new"
   ]
  },
  {
   "cell_type": "code",
   "execution_count": 55,
   "metadata": {},
   "outputs": [
    {
     "name": "stdout",
     "output_type": "stream",
     "text": [
      "We reduced the in-memory footprint of the dataset to 0.22 of its original size.\n"
     ]
    }
   ],
   "source": [
    "reduction = dc_bike_share_new.memory_usage(deep=True).sum() / dc_bike_share.memory_usage(deep=True).sum()\n",
    "print(f\"We reduced the in-memory footprint of the dataset to {reduction:.2f} of its original size.\")"
   ]
  },
  {
   "cell_type": "markdown",
   "metadata": {},
   "source": [
    "# Adding New Columns "
   ]
  },
  {
   "cell_type": "code",
   "execution_count": 56,
   "metadata": {},
   "outputs": [
    {
     "name": "stderr",
     "output_type": "stream",
     "text": [
      "/var/folders/5d/2f43d6ts64x5bt51z8p0j2dc0000gn/T/ipykernel_22288/3950713398.py:2: SettingWithCopyWarning: \n",
      "A value is trying to be set on a copy of a slice from a DataFrame.\n",
      "Try using .loc[row_indexer,col_indexer] = value instead\n",
      "\n",
      "See the caveats in the documentation: https://pandas.pydata.org/pandas-docs/stable/user_guide/indexing.html#returning-a-view-versus-a-copy\n",
      "  dc_bike_share_new['duration_hours'] = dc_bike_share_new['started_at'].dt.hour\n",
      "/var/folders/5d/2f43d6ts64x5bt51z8p0j2dc0000gn/T/ipykernel_22288/3950713398.py:16: SettingWithCopyWarning: \n",
      "A value is trying to be set on a copy of a slice from a DataFrame.\n",
      "Try using .loc[row_indexer,col_indexer] = value instead\n",
      "\n",
      "See the caveats in the documentation: https://pandas.pydata.org/pandas-docs/stable/user_guide/indexing.html#returning-a-view-versus-a-copy\n",
      "  dc_bike_share_new['time_of_day'] = dc_bike_share_new['duration_hours'].apply(categorize_time)\n"
     ]
    },
    {
     "name": "stdout",
     "output_type": "stream",
     "text": [
      "          ride_id  rideable_type          started_at            ended_at  \\\n",
      "0             1.0   classic_bike 2021-01-01 00:08:33 2021-01-01 00:33:53   \n",
      "2             3.0  electric_bike 2021-01-01 00:14:32 2021-01-01 00:28:45   \n",
      "3             4.0   classic_bike 2021-01-01 00:15:45 2021-01-01 00:21:20   \n",
      "4             5.0   classic_bike 2021-01-01 00:17:46 2021-01-01 00:21:00   \n",
      "6             7.0   classic_bike 2021-01-01 00:19:06 2021-01-01 00:36:28   \n",
      "...           ...            ...                 ...                 ...   \n",
      "10693991      NaN   classic_bike 2023-12-31 23:57:56 2024-01-01 00:02:25   \n",
      "10693992      NaN   classic_bike 2023-12-31 23:58:06 2024-01-01 00:12:29   \n",
      "10693993      NaN  electric_bike 2023-12-31 23:58:27 2024-01-01 00:02:28   \n",
      "10693994      NaN   classic_bike 2023-12-31 23:59:27 2024-01-01 02:09:11   \n",
      "10693995      NaN   classic_bike 2023-12-31 23:59:30 2024-01-01 02:02:07   \n",
      "\n",
      "                                         start_station_name start_station_id  \\\n",
      "0                                     Maine Ave & 9th St SW          31646.0   \n",
      "2                                     17th & Corcoran St NW          31214.0   \n",
      "3                             Wilson Blvd. & N. Vermont St.          31926.0   \n",
      "4                                         11th & Park Rd NW          31651.0   \n",
      "6                            Bladensburg Rd & Benning Rd NE          31617.0   \n",
      "...                                                     ...              ...   \n",
      "10693991  Eastern Market Metro / Pennsylvania Ave & 8th ...          31613.0   \n",
      "10693992                                King St & Peyton St          31955.0   \n",
      "10693993  Eastern Market Metro / Pennsylvania Ave & 8th ...          31613.0   \n",
      "10693994                                     22nd & P ST NW          31285.0   \n",
      "10693995                                     22nd & P ST NW          31285.0   \n",
      "\n",
      "                                   end_station_name end_station_id  start_lat  \\\n",
      "0          Rosslyn Metro / Wilson Blvd & Ft Myer Dr        31015.0  38.880440   \n",
      "2                              14th & Belmont St NW        31119.0  38.912138   \n",
      "3                     Wilson Blvd. & N. Vermont St.        31926.0  38.879477   \n",
      "4                               14th & Newton St NW        31649.0  38.931322   \n",
      "6                         Good Hope Rd & MLK Ave SE        31802.0  38.900413   \n",
      "...                                             ...            ...        ...   \n",
      "10693991  Lincoln Park / 13th & East Capitol St NE         31619.0  38.884095   \n",
      "10693992         Market Square / King St & Royal St        31042.0  38.806002   \n",
      "10693993  Lincoln Park / 13th & East Capitol St NE         31619.0  38.884185   \n",
      "10693994                            23rd & E St NW         31260.0  38.909394   \n",
      "10693995                             22nd & P ST NW        31285.0  38.909394   \n",
      "\n",
      "          start_lng    end_lat    end_lng member_casual time_of_day  \n",
      "0        -77.025236  38.894600 -77.072305        member       Night  \n",
      "2        -77.038568  38.920870 -77.031691        member       Night  \n",
      "3        -77.114563  38.879477 -77.114563        member       Night  \n",
      "4        -77.028247  38.931991 -77.032956        member       Night  \n",
      "6        -76.982872  38.867373 -76.988039        casual       Night  \n",
      "...             ...        ...        ...           ...         ...  \n",
      "10693991 -76.995234  38.890461 -76.988355        casual       Night  \n",
      "10693992 -77.055911  38.804718 -77.043363        member       Night  \n",
      "10693993 -76.995396  38.890461 -76.988355        member       Night  \n",
      "10693994 -77.048728  38.896104 -77.049882        casual       Night  \n",
      "10693995 -77.048728  38.909394 -77.048728        casual       Night  \n",
      "\n",
      "[9572692 rows x 14 columns]\n"
     ]
    },
    {
     "name": "stderr",
     "output_type": "stream",
     "text": [
      "/var/folders/5d/2f43d6ts64x5bt51z8p0j2dc0000gn/T/ipykernel_22288/3950713398.py:19: SettingWithCopyWarning: \n",
      "A value is trying to be set on a copy of a slice from a DataFrame\n",
      "\n",
      "See the caveats in the documentation: https://pandas.pydata.org/pandas-docs/stable/user_guide/indexing.html#returning-a-view-versus-a-copy\n",
      "  dc_bike_share_new.drop(columns=['duration_hours'], inplace=True)\n"
     ]
    }
   ],
   "source": [
    "# Extract the hour\n",
    "dc_bike_share_new['duration_hours'] = dc_bike_share_new['started_at'].dt.hour\n",
    "\n",
    "# Define function to categorize time of day\n",
    "def categorize_time(hour):\n",
    "    if 5 <= hour < 12:\n",
    "        return 'Morning'\n",
    "    elif 12 <= hour < 17:\n",
    "        return 'Afternoon'\n",
    "    elif 17 <= hour < 21:\n",
    "        return 'Evening'\n",
    "    else:\n",
    "        return 'Night'\n",
    "\n",
    "# Apply function to create the new column\n",
    "dc_bike_share_new['time_of_day'] = dc_bike_share_new['duration_hours'].apply(categorize_time)\n",
    "\n",
    "# Drop the hour column (optional)\n",
    "dc_bike_share_new.drop(columns=['duration_hours'], inplace=True)\n",
    "\n",
    "# Display the updated DataFrame\n",
    "print(dc_bike_share_new)"
   ]
  },
  {
   "cell_type": "code",
   "execution_count": 57,
   "metadata": {},
   "outputs": [
    {
     "name": "stderr",
     "output_type": "stream",
     "text": [
      "/var/folders/5d/2f43d6ts64x5bt51z8p0j2dc0000gn/T/ipykernel_22288/1424985675.py:2: SettingWithCopyWarning: \n",
      "A value is trying to be set on a copy of a slice from a DataFrame.\n",
      "Try using .loc[row_indexer,col_indexer] = value instead\n",
      "\n",
      "See the caveats in the documentation: https://pandas.pydata.org/pandas-docs/stable/user_guide/indexing.html#returning-a-view-versus-a-copy\n",
      "  dc_bike_share_new['duration_hours'] = (dc_bike_share_new['ended_at'] - dc_bike_share_new['started_at']).dt.total_seconds() / 3600\n"
     ]
    }
   ],
   "source": [
    "# Calculate ride duration in hours\n",
    "dc_bike_share_new['duration_hours'] = (dc_bike_share_new['ended_at'] - dc_bike_share_new['started_at']).dt.total_seconds() / 3600\n",
    "\n",
    "# Define the Haversine function\n",
    "def haversine(lat1, lon1, lat2, lon2):\n",
    "    \"\"\"\n",
    "    Calculate the great-circle distance between two points on the Earth using the Haversine formula.\n",
    "    Inputs:\n",
    "    - lat1, lon1: Latitude and longitude of point 1 in degrees.\n",
    "    - lat2, lon2: Latitude and longitude of point 2 in degrees.\n",
    "    Output:\n",
    "    - Distance in kilometers.\n",
    "    \"\"\"\n",
    "    # Convert latitude and longitude from degrees to radians\n",
    "    lat1, lon1, lat2, lon2 = map(np.radians, [lat1, lon1, lat2, lon2])\n",
    "    \n",
    "    # Haversine formula\n",
    "    dlat = lat2 - lat1\n",
    "    dlon = lon2 - lon1\n",
    "    a = np.sin(dlat / 2.0)**2 + np.cos(lat1) * np.cos(lat2) * np.sin(dlon / 2.0)**2\n",
    "    c = 2 * np.arcsin(np.sqrt(a))\n",
    "    r = 6371  # Radius of Earth in kilometers\n",
    "    return c * r\n"
   ]
  },
  {
   "cell_type": "code",
   "execution_count": 59,
   "metadata": {},
   "outputs": [
    {
     "name": "stderr",
     "output_type": "stream",
     "text": [
      "/var/folders/5d/2f43d6ts64x5bt51z8p0j2dc0000gn/T/ipykernel_22288/3893014002.py:2: SettingWithCopyWarning: \n",
      "A value is trying to be set on a copy of a slice from a DataFrame.\n",
      "Try using .loc[row_indexer,col_indexer] = value instead\n",
      "\n",
      "See the caveats in the documentation: https://pandas.pydata.org/pandas-docs/stable/user_guide/indexing.html#returning-a-view-versus-a-copy\n",
      "  dc_bike_share_new['Date_year'] = dc_bike_share_new['started_at'].dt.year\n",
      "/var/folders/5d/2f43d6ts64x5bt51z8p0j2dc0000gn/T/ipykernel_22288/3893014002.py:3: SettingWithCopyWarning: \n",
      "A value is trying to be set on a copy of a slice from a DataFrame.\n",
      "Try using .loc[row_indexer,col_indexer] = value instead\n",
      "\n",
      "See the caveats in the documentation: https://pandas.pydata.org/pandas-docs/stable/user_guide/indexing.html#returning-a-view-versus-a-copy\n",
      "  dc_bike_share_new['Date_day'] = dc_bike_share_new['started_at'].dt.day\n",
      "/var/folders/5d/2f43d6ts64x5bt51z8p0j2dc0000gn/T/ipykernel_22288/3893014002.py:4: SettingWithCopyWarning: \n",
      "A value is trying to be set on a copy of a slice from a DataFrame.\n",
      "Try using .loc[row_indexer,col_indexer] = value instead\n",
      "\n",
      "See the caveats in the documentation: https://pandas.pydata.org/pandas-docs/stable/user_guide/indexing.html#returning-a-view-versus-a-copy\n",
      "  dc_bike_share_new['Date_dow_name'] = dc_bike_share_new['started_at'].dt.day_name()\n",
      "/var/folders/5d/2f43d6ts64x5bt51z8p0j2dc0000gn/T/ipykernel_22288/3893014002.py:5: SettingWithCopyWarning: \n",
      "A value is trying to be set on a copy of a slice from a DataFrame.\n",
      "Try using .loc[row_indexer,col_indexer] = value instead\n",
      "\n",
      "See the caveats in the documentation: https://pandas.pydata.org/pandas-docs/stable/user_guide/indexing.html#returning-a-view-versus-a-copy\n",
      "  dc_bike_share_new['Date_month_name'] = dc_bike_share_new['started_at'].dt.month_name()\n"
     ]
    },
    {
     "name": "stdout",
     "output_type": "stream",
     "text": [
      "   ride_id  rideable_type          started_at            ended_at  \\\n",
      "0      1.0   classic_bike 2021-01-01 00:08:33 2021-01-01 00:33:53   \n",
      "2      3.0  electric_bike 2021-01-01 00:14:32 2021-01-01 00:28:45   \n",
      "3      4.0   classic_bike 2021-01-01 00:15:45 2021-01-01 00:21:20   \n",
      "4      5.0   classic_bike 2021-01-01 00:17:46 2021-01-01 00:21:00   \n",
      "6      7.0   classic_bike 2021-01-01 00:19:06 2021-01-01 00:36:28   \n",
      "\n",
      "               start_station_name start_station_id  \\\n",
      "0           Maine Ave & 9th St SW          31646.0   \n",
      "2           17th & Corcoran St NW          31214.0   \n",
      "3   Wilson Blvd. & N. Vermont St.          31926.0   \n",
      "4               11th & Park Rd NW          31651.0   \n",
      "6  Bladensburg Rd & Benning Rd NE          31617.0   \n",
      "\n",
      "                           end_station_name end_station_id  start_lat  \\\n",
      "0  Rosslyn Metro / Wilson Blvd & Ft Myer Dr        31015.0  38.880440   \n",
      "2                      14th & Belmont St NW        31119.0  38.912138   \n",
      "3             Wilson Blvd. & N. Vermont St.        31926.0  38.879477   \n",
      "4                       14th & Newton St NW        31649.0  38.931322   \n",
      "6                 Good Hope Rd & MLK Ave SE        31802.0  38.900413   \n",
      "\n",
      "   start_lng    end_lat    end_lng member_casual time_of_day  duration_hours  \\\n",
      "0 -77.025236  38.894600 -77.072305        member       Night        0.422222   \n",
      "2 -77.038568  38.920870 -77.031691        member       Night        0.236944   \n",
      "3 -77.114563  38.879477 -77.114563        member       Night        0.093056   \n",
      "4 -77.028247  38.931991 -77.032956        member       Night        0.053889   \n",
      "6 -76.982872  38.867373 -76.988039        casual       Night        0.289444   \n",
      "\n",
      "   Date_year  Date_day Date_dow_name Date_month_name  Date_month_no  \n",
      "0       2021         1        Friday         January              1  \n",
      "2       2021         1        Friday         January              1  \n",
      "3       2021         1        Friday         January              1  \n",
      "4       2021         1        Friday         January              1  \n",
      "6       2021         1        Friday         January              1  \n"
     ]
    },
    {
     "name": "stderr",
     "output_type": "stream",
     "text": [
      "/var/folders/5d/2f43d6ts64x5bt51z8p0j2dc0000gn/T/ipykernel_22288/3893014002.py:6: SettingWithCopyWarning: \n",
      "A value is trying to be set on a copy of a slice from a DataFrame.\n",
      "Try using .loc[row_indexer,col_indexer] = value instead\n",
      "\n",
      "See the caveats in the documentation: https://pandas.pydata.org/pandas-docs/stable/user_guide/indexing.html#returning-a-view-versus-a-copy\n",
      "  dc_bike_share_new['Date_month_no'] = dc_bike_share_new['started_at'].dt.month\n"
     ]
    }
   ],
   "source": [
    "# Extracting year, month, and day\n",
    "dc_bike_share_new['Date_year'] = dc_bike_share_new['started_at'].dt.year\n",
    "dc_bike_share_new['Date_day'] = dc_bike_share_new['started_at'].dt.day\n",
    "dc_bike_share_new['Date_dow_name'] = dc_bike_share_new['started_at'].dt.day_name()\n",
    "dc_bike_share_new['Date_month_name'] = dc_bike_share_new['started_at'].dt.month_name()\n",
    "dc_bike_share_new['Date_month_no'] = dc_bike_share_new['started_at'].dt.month\n",
    "\n",
    "\n",
    "# Displaying the updated DataFrame\n",
    "print(dc_bike_share_new.head())"
   ]
  },
  {
   "cell_type": "code",
   "execution_count": 61,
   "metadata": {},
   "outputs": [
    {
     "name": "stderr",
     "output_type": "stream",
     "text": [
      "/var/folders/5d/2f43d6ts64x5bt51z8p0j2dc0000gn/T/ipykernel_22288/4255775703.py:1: SettingWithCopyWarning: \n",
      "A value is trying to be set on a copy of a slice from a DataFrame.\n",
      "Try using .loc[row_indexer,col_indexer] = value instead\n",
      "\n",
      "See the caveats in the documentation: https://pandas.pydata.org/pandas-docs/stable/user_guide/indexing.html#returning-a-view-versus-a-copy\n",
      "  dc_bike_share_new['day'] = dc_bike_share_new['started_at'].dt.day\n",
      "/var/folders/5d/2f43d6ts64x5bt51z8p0j2dc0000gn/T/ipykernel_22288/4255775703.py:2: SettingWithCopyWarning: \n",
      "A value is trying to be set on a copy of a slice from a DataFrame.\n",
      "Try using .loc[row_indexer,col_indexer] = value instead\n",
      "\n",
      "See the caveats in the documentation: https://pandas.pydata.org/pandas-docs/stable/user_guide/indexing.html#returning-a-view-versus-a-copy\n",
      "  dc_bike_share_new['dow'] = dc_bike_share_new['started_at'].dt.dayofweek\n",
      "/var/folders/5d/2f43d6ts64x5bt51z8p0j2dc0000gn/T/ipykernel_22288/4255775703.py:3: SettingWithCopyWarning: \n",
      "A value is trying to be set on a copy of a slice from a DataFrame.\n",
      "Try using .loc[row_indexer,col_indexer] = value instead\n",
      "\n",
      "See the caveats in the documentation: https://pandas.pydata.org/pandas-docs/stable/user_guide/indexing.html#returning-a-view-versus-a-copy\n",
      "  dc_bike_share_new['weekend'] = np.where(dc_bike_share_new['dow'].isin([5, 6]), 1, 0)\n"
     ]
    }
   ],
   "source": [
    "dc_bike_share_new['day'] = dc_bike_share_new['started_at'].dt.day\n",
    "dc_bike_share_new['dow'] = dc_bike_share_new['started_at'].dt.dayofweek\n",
    "dc_bike_share_new['weekend'] = np.where(dc_bike_share_new['dow'].isin([5, 6]), 1, 0)"
   ]
  },
  {
   "cell_type": "code",
   "execution_count": 62,
   "metadata": {},
   "outputs": [
    {
     "name": "stderr",
     "output_type": "stream",
     "text": [
      "/var/folders/5d/2f43d6ts64x5bt51z8p0j2dc0000gn/T/ipykernel_22288/2621626848.py:1: SettingWithCopyWarning: \n",
      "A value is trying to be set on a copy of a slice from a DataFrame.\n",
      "Try using .loc[row_indexer,col_indexer] = value instead\n",
      "\n",
      "See the caveats in the documentation: https://pandas.pydata.org/pandas-docs/stable/user_guide/indexing.html#returning-a-view-versus-a-copy\n",
      "  dc_bike_share_new['Season'] = dc_bike_share_new['Date_month_no'].apply(lambda value: 'winter'if value in (12, 1, 2)\n"
     ]
    }
   ],
   "source": [
    "dc_bike_share_new['Season'] = dc_bike_share_new['Date_month_no'].apply(lambda value: 'winter'if value in (12, 1, 2)\n",
    "                                                                 else 'Spring'if value in (3, 4, 5) \n",
    "                                                                 else 'Summer'if value in (6, 7, 8) \n",
    "                                                                 else 'Fall' )\n"
   ]
  },
  {
   "cell_type": "code",
   "execution_count": 63,
   "metadata": {},
   "outputs": [
    {
     "data": {
      "text/plain": [
       "start_station_name       858\n",
       "end_station_name         864\n",
       "start_station_id        1883\n",
       "end_station_id          1899\n",
       "start_lat             508855\n",
       "dtype: int64"
      ]
     },
     "execution_count": 63,
     "metadata": {},
     "output_type": "execute_result"
    }
   ],
   "source": [
    "dc_bike_share_new[['start_station_name', 'end_station_name', 'start_station_id', 'end_station_id','start_lat']].nunique()"
   ]
  },
  {
   "cell_type": "code",
   "execution_count": 66,
   "metadata": {},
   "outputs": [
    {
     "data": {
      "text/plain": [
       "array(['winter', 'Spring', 'Summer', 'Fall'], dtype=object)"
      ]
     },
     "execution_count": 66,
     "metadata": {},
     "output_type": "execute_result"
    }
   ],
   "source": [
    "dc_bike_share_new['Season'].unique()"
   ]
  },
  {
   "cell_type": "code",
   "execution_count": 67,
   "metadata": {},
   "outputs": [
    {
     "name": "stderr",
     "output_type": "stream",
     "text": [
      "/var/folders/5d/2f43d6ts64x5bt51z8p0j2dc0000gn/T/ipykernel_22288/3141544440.py:2: FutureWarning: The default of observed=False is deprecated and will be changed to True in a future version of pandas. Pass observed=False to retain current behavior or observed=True to adopt the future default and silence this warning.\n",
      "  dc_bike_share_new['ride_count'] = dc_bike_share_new.groupby('rideable_type')['rideable_type'].transform('count')\n",
      "/var/folders/5d/2f43d6ts64x5bt51z8p0j2dc0000gn/T/ipykernel_22288/3141544440.py:2: SettingWithCopyWarning: \n",
      "A value is trying to be set on a copy of a slice from a DataFrame.\n",
      "Try using .loc[row_indexer,col_indexer] = value instead\n",
      "\n",
      "See the caveats in the documentation: https://pandas.pydata.org/pandas-docs/stable/user_guide/indexing.html#returning-a-view-versus-a-copy\n",
      "  dc_bike_share_new['ride_count'] = dc_bike_share_new.groupby('rideable_type')['rideable_type'].transform('count')\n"
     ]
    },
    {
     "name": "stdout",
     "output_type": "stream",
     "text": [
      "          ride_id  rideable_type          started_at            ended_at  \\\n",
      "0             1.0   classic_bike 2021-01-01 00:08:33 2021-01-01 00:33:53   \n",
      "2             3.0  electric_bike 2021-01-01 00:14:32 2021-01-01 00:28:45   \n",
      "3             4.0   classic_bike 2021-01-01 00:15:45 2021-01-01 00:21:20   \n",
      "4             5.0   classic_bike 2021-01-01 00:17:46 2021-01-01 00:21:00   \n",
      "6             7.0   classic_bike 2021-01-01 00:19:06 2021-01-01 00:36:28   \n",
      "...           ...            ...                 ...                 ...   \n",
      "10693991      NaN   classic_bike 2023-12-31 23:57:56 2024-01-01 00:02:25   \n",
      "10693992      NaN   classic_bike 2023-12-31 23:58:06 2024-01-01 00:12:29   \n",
      "10693993      NaN  electric_bike 2023-12-31 23:58:27 2024-01-01 00:02:28   \n",
      "10693994      NaN   classic_bike 2023-12-31 23:59:27 2024-01-01 02:09:11   \n",
      "10693995      NaN   classic_bike 2023-12-31 23:59:30 2024-01-01 02:02:07   \n",
      "\n",
      "                                         start_station_name start_station_id  \\\n",
      "0                                     Maine Ave & 9th St SW          31646.0   \n",
      "2                                     17th & Corcoran St NW          31214.0   \n",
      "3                             Wilson Blvd. & N. Vermont St.          31926.0   \n",
      "4                                         11th & Park Rd NW          31651.0   \n",
      "6                            Bladensburg Rd & Benning Rd NE          31617.0   \n",
      "...                                                     ...              ...   \n",
      "10693991  Eastern Market Metro / Pennsylvania Ave & 8th ...          31613.0   \n",
      "10693992                                King St & Peyton St          31955.0   \n",
      "10693993  Eastern Market Metro / Pennsylvania Ave & 8th ...          31613.0   \n",
      "10693994                                     22nd & P ST NW          31285.0   \n",
      "10693995                                     22nd & P ST NW          31285.0   \n",
      "\n",
      "                                   end_station_name end_station_id  start_lat  \\\n",
      "0          Rosslyn Metro / Wilson Blvd & Ft Myer Dr        31015.0  38.880440   \n",
      "2                              14th & Belmont St NW        31119.0  38.912138   \n",
      "3                     Wilson Blvd. & N. Vermont St.        31926.0  38.879477   \n",
      "4                               14th & Newton St NW        31649.0  38.931322   \n",
      "6                         Good Hope Rd & MLK Ave SE        31802.0  38.900413   \n",
      "...                                             ...            ...        ...   \n",
      "10693991  Lincoln Park / 13th & East Capitol St NE         31619.0  38.884095   \n",
      "10693992         Market Square / King St & Royal St        31042.0  38.806002   \n",
      "10693993  Lincoln Park / 13th & East Capitol St NE         31619.0  38.884185   \n",
      "10693994                            23rd & E St NW         31260.0  38.909394   \n",
      "10693995                             22nd & P ST NW        31285.0  38.909394   \n",
      "\n",
      "          start_lng  ...  Date_year  Date_day Date_dow_name Date_month_name  \\\n",
      "0        -77.025236  ...       2021         1        Friday         January   \n",
      "2        -77.038568  ...       2021         1        Friday         January   \n",
      "3        -77.114563  ...       2021         1        Friday         January   \n",
      "4        -77.028247  ...       2021         1        Friday         January   \n",
      "6        -76.982872  ...       2021         1        Friday         January   \n",
      "...             ...  ...        ...       ...           ...             ...   \n",
      "10693991 -76.995234  ...       2023        31        Sunday        December   \n",
      "10693992 -77.055911  ...       2023        31        Sunday        December   \n",
      "10693993 -76.995396  ...       2023        31        Sunday        December   \n",
      "10693994 -77.048728  ...       2023        31        Sunday        December   \n",
      "10693995 -77.048728  ...       2023        31        Sunday        December   \n",
      "\n",
      "          Date_month_no  day  dow weekend  Season  ride_count  \n",
      "0                     1    1    4       0  winter     7690469  \n",
      "2                     1    1    4       0  winter     1347887  \n",
      "3                     1    1    4       0  winter     7690469  \n",
      "4                     1    1    4       0  winter     7690469  \n",
      "6                     1    1    4       0  winter     7690469  \n",
      "...                 ...  ...  ...     ...     ...         ...  \n",
      "10693991             12   31    6       1  winter     7690469  \n",
      "10693992             12   31    6       1  winter     7690469  \n",
      "10693993             12   31    6       1  winter     1347887  \n",
      "10693994             12   31    6       1  winter     7690469  \n",
      "10693995             12   31    6       1  winter     7690469  \n",
      "\n",
      "[9572692 rows x 25 columns]\n"
     ]
    }
   ],
   "source": [
    "# Add a ride count column (group by 'rideable_type' or 'start_station_name')\n",
    "dc_bike_share_new['ride_count'] = dc_bike_share_new.groupby('rideable_type')['rideable_type'].transform('count')\n",
    "\n",
    "# Display the updated dataframe\n",
    "print(dc_bike_share_new)"
   ]
  },
  {
   "cell_type": "code",
   "execution_count": 68,
   "metadata": {},
   "outputs": [
    {
     "name": "stderr",
     "output_type": "stream",
     "text": [
      "/var/folders/5d/2f43d6ts64x5bt51z8p0j2dc0000gn/T/ipykernel_22288/1195075106.py:3: SettingWithCopyWarning: \n",
      "A value is trying to be set on a copy of a slice from a DataFrame.\n",
      "Try using .loc[row_indexer,col_indexer] = value instead\n",
      "\n",
      "See the caveats in the documentation: https://pandas.pydata.org/pandas-docs/stable/user_guide/indexing.html#returning-a-view-versus-a-copy\n",
      "  dc_bike_share_new['hour'] = dc_bike_share_new['started_at'].dt.hour\n",
      "/var/folders/5d/2f43d6ts64x5bt51z8p0j2dc0000gn/T/ipykernel_22288/1195075106.py:4: SettingWithCopyWarning: \n",
      "A value is trying to be set on a copy of a slice from a DataFrame.\n",
      "Try using .loc[row_indexer,col_indexer] = value instead\n",
      "\n",
      "See the caveats in the documentation: https://pandas.pydata.org/pandas-docs/stable/user_guide/indexing.html#returning-a-view-versus-a-copy\n",
      "  dc_bike_share_new['Minute'] = dc_bike_share_new['started_at'].dt.minute\n",
      "/var/folders/5d/2f43d6ts64x5bt51z8p0j2dc0000gn/T/ipykernel_22288/1195075106.py:5: SettingWithCopyWarning: \n",
      "A value is trying to be set on a copy of a slice from a DataFrame.\n",
      "Try using .loc[row_indexer,col_indexer] = value instead\n",
      "\n",
      "See the caveats in the documentation: https://pandas.pydata.org/pandas-docs/stable/user_guide/indexing.html#returning-a-view-versus-a-copy\n",
      "  dc_bike_share_new['time'] = dc_bike_share_new['started_at'].dt.time\n"
     ]
    },
    {
     "name": "stdout",
     "output_type": "stream",
     "text": [
      "   ride_id  rideable_type          started_at            ended_at  \\\n",
      "0      1.0   classic_bike 2021-01-01 00:08:33 2021-01-01 00:33:53   \n",
      "2      3.0  electric_bike 2021-01-01 00:14:32 2021-01-01 00:28:45   \n",
      "3      4.0   classic_bike 2021-01-01 00:15:45 2021-01-01 00:21:20   \n",
      "4      5.0   classic_bike 2021-01-01 00:17:46 2021-01-01 00:21:00   \n",
      "6      7.0   classic_bike 2021-01-01 00:19:06 2021-01-01 00:36:28   \n",
      "\n",
      "               start_station_name start_station_id  \\\n",
      "0           Maine Ave & 9th St SW          31646.0   \n",
      "2           17th & Corcoran St NW          31214.0   \n",
      "3   Wilson Blvd. & N. Vermont St.          31926.0   \n",
      "4               11th & Park Rd NW          31651.0   \n",
      "6  Bladensburg Rd & Benning Rd NE          31617.0   \n",
      "\n",
      "                           end_station_name end_station_id  start_lat  \\\n",
      "0  Rosslyn Metro / Wilson Blvd & Ft Myer Dr        31015.0  38.880440   \n",
      "2                      14th & Belmont St NW        31119.0  38.912138   \n",
      "3             Wilson Blvd. & N. Vermont St.        31926.0  38.879477   \n",
      "4                       14th & Newton St NW        31649.0  38.931322   \n",
      "6                 Good Hope Rd & MLK Ave SE        31802.0  38.900413   \n",
      "\n",
      "   start_lng  ...  Date_month_name  Date_month_no day dow  weekend  Season  \\\n",
      "0 -77.025236  ...          January              1   1   4        0  winter   \n",
      "2 -77.038568  ...          January              1   1   4        0  winter   \n",
      "3 -77.114563  ...          January              1   1   4        0  winter   \n",
      "4 -77.028247  ...          January              1   1   4        0  winter   \n",
      "6 -76.982872  ...          January              1   1   4        0  winter   \n",
      "\n",
      "   ride_count hour Minute      time  \n",
      "0     7690469    0      8  00:08:33  \n",
      "2     1347887    0     14  00:14:32  \n",
      "3     7690469    0     15  00:15:45  \n",
      "4     7690469    0     17  00:17:46  \n",
      "6     7690469    0     19  00:19:06  \n",
      "\n",
      "[5 rows x 28 columns]\n"
     ]
    }
   ],
   "source": [
    "# Extracting hour, minute, and second\n",
    "#import datetime \n",
    "dc_bike_share_new['hour'] = dc_bike_share_new['started_at'].dt.hour\n",
    "dc_bike_share_new['Minute'] = dc_bike_share_new['started_at'].dt.minute\n",
    "dc_bike_share_new['time'] = dc_bike_share_new['started_at'].dt.time\n",
    "\n",
    " #Displaying the updated DataFrame\n",
    "print(dc_bike_share_new.head())"
   ]
  },
  {
   "cell_type": "code",
   "execution_count": 70,
   "metadata": {},
   "outputs": [
    {
     "data": {
      "text/plain": [
       "Index(['ride_id', 'rideable_type', 'started_at', 'ended_at',\n",
       "       'start_station_name', 'start_station_id', 'end_station_name',\n",
       "       'end_station_id', 'start_lat', 'start_lng', 'end_lat', 'end_lng',\n",
       "       'member_casual', 'time_of_day', 'duration_hours', 'Date_year',\n",
       "       'Date_day', 'Date_dow_name', 'Date_month_name', 'Date_month_no', 'day',\n",
       "       'dow', 'weekend', 'Season', 'ride_count', 'hour', 'Minute', 'time'],\n",
       "      dtype='object')"
      ]
     },
     "execution_count": 70,
     "metadata": {},
     "output_type": "execute_result"
    }
   ],
   "source": [
    "dc_bike_share_new.columns"
   ]
  },
  {
   "cell_type": "code",
   "execution_count": 71,
   "metadata": {},
   "outputs": [],
   "source": [
    "# 108.000 rows sample (3000 per month)\n",
    "samples = []\n",
    "\n",
    "# Loop over years and months to sample 1,000 rows for each month\n",
    "for year in range(2021, 2024):  # Covering 2021, 2022, and 2023\n",
    "    for month in range(1, 13):  # Months from 1 to 12\n",
    "        # Filter for the specific year and month\n",
    "        filtered_data = dc_bike_share_new[(dc_bike_share_new[\"Date_year\"] == year) & (dc_bike_share_new[\"Date_month_no\"] == month)]\n",
    "        \n",
    "        # Sample 1,000 rows if there are enough rows available\n",
    "        if len(filtered_data) >= 3000:\n",
    "            sample = filtered_data.sample(n=3000, random_state=42)\n",
    "        else:  # If less than 1,000 rows, take all available rows\n",
    "            sample = filtered_data\n",
    "            \n",
    "        samples.append(sample)\n",
    "\n",
    "samples\n",
    "# Combine all the samples into a single DataFrame\n",
    "dc_bikes_sample_3000 = pd.concat(samples, ignore_index=True)"
   ]
  },
  {
   "cell_type": "code",
   "execution_count": 72,
   "metadata": {},
   "outputs": [
    {
     "data": {
      "text/plain": [
       "(108000, 28)"
      ]
     },
     "execution_count": 72,
     "metadata": {},
     "output_type": "execute_result"
    }
   ],
   "source": [
    "dc_bikes_sample_3000.shape"
   ]
  },
  {
   "cell_type": "code",
   "execution_count": 73,
   "metadata": {},
   "outputs": [],
   "source": [
    "# Save to CSV\n",
    "dc_bikes_sample_3000.to_csv('dc_bikes_sample_3000.csv', index=False)"
   ]
  }
 ],
 "metadata": {
  "kernelspec": {
   "display_name": "Exp",
   "language": "python",
   "name": "python3"
  },
  "language_info": {
   "codemirror_mode": {
    "name": "ipython",
    "version": 3
   },
   "file_extension": ".py",
   "mimetype": "text/x-python",
   "name": "python",
   "nbconvert_exporter": "python",
   "pygments_lexer": "ipython3",
   "version": "3.12.8"
  }
 },
 "nbformat": 4,
 "nbformat_minor": 2
}
